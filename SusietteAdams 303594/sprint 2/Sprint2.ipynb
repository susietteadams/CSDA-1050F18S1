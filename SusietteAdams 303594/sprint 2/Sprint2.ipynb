{
 "cells": [
  {
   "cell_type": "markdown",
   "metadata": {},
   "source": [
    "# Analysing housing rent prices using 3 datasets. The datasets were extracted from the CMHC websit they are housing price indicaters, household average income and average price for 2 bedroom apartments.\n",
    "\n",
    "There is still a lot of work to be done on this project, but for the most part the the infprmation below will give you a good grasp of datasets.\n",
    "\n",
    "Susiette Adams 3030594"
   ]
  },
  {
   "cell_type": "code",
   "execution_count": 1,
   "metadata": {},
   "outputs": [],
   "source": [
    "# Loading packages\n",
    "import pandas as pd\n",
    "import numpy as np\n",
    "import matplotlib.pyplot as plt\n",
    "import seaborn as sns\n",
    "import os\n",
    "from pandas import read_table\n",
    "from scipy.stats import norm\n",
    "%matplotlib inline"
   ]
  },
  {
   "cell_type": "code",
   "execution_count": 63,
   "metadata": {},
   "outputs": [
    {
     "data": {
      "text/html": [
       "<div>\n",
       "<style scoped>\n",
       "    .dataframe tbody tr th:only-of-type {\n",
       "        vertical-align: middle;\n",
       "    }\n",
       "\n",
       "    .dataframe tbody tr th {\n",
       "        vertical-align: top;\n",
       "    }\n",
       "\n",
       "    .dataframe thead th {\n",
       "        text-align: right;\n",
       "    }\n",
       "</style>\n",
       "<table border=\"1\" class=\"dataframe\">\n",
       "  <thead>\n",
       "    <tr style=\"text-align: right;\">\n",
       "      <th></th>\n",
       "      <th>City</th>\n",
       "      <th>1992</th>\n",
       "      <th>1993</th>\n",
       "      <th>1994</th>\n",
       "      <th>1995</th>\n",
       "      <th>1996</th>\n",
       "      <th>1997</th>\n",
       "      <th>1998</th>\n",
       "      <th>1999</th>\n",
       "      <th>2000</th>\n",
       "      <th>...</th>\n",
       "      <th>2007</th>\n",
       "      <th>2008</th>\n",
       "      <th>2009</th>\n",
       "      <th>2010</th>\n",
       "      <th>2011</th>\n",
       "      <th>2012</th>\n",
       "      <th>2013</th>\n",
       "      <th>2014</th>\n",
       "      <th>2015</th>\n",
       "      <th>2016</th>\n",
       "    </tr>\n",
       "  </thead>\n",
       "  <tbody>\n",
       "    <tr>\n",
       "      <th>0</th>\n",
       "      <td>St. JohnÕs</td>\n",
       "      <td>566.0</td>\n",
       "      <td>554.0</td>\n",
       "      <td>559.0</td>\n",
       "      <td>565.0</td>\n",
       "      <td>570.0</td>\n",
       "      <td>567.0</td>\n",
       "      <td>513.0</td>\n",
       "      <td>517.0</td>\n",
       "      <td>552.0</td>\n",
       "      <td>...</td>\n",
       "      <td>614.0</td>\n",
       "      <td>630.0</td>\n",
       "      <td>677.0</td>\n",
       "      <td>725.0</td>\n",
       "      <td>771.0</td>\n",
       "      <td>798.0</td>\n",
       "      <td>864.0</td>\n",
       "      <td>888.0</td>\n",
       "      <td>923.0</td>\n",
       "      <td>958.0</td>\n",
       "    </tr>\n",
       "    <tr>\n",
       "      <th>1</th>\n",
       "      <td>Halifax</td>\n",
       "      <td>595.0</td>\n",
       "      <td>604.0</td>\n",
       "      <td>610.0</td>\n",
       "      <td>615.0</td>\n",
       "      <td>617.0</td>\n",
       "      <td>616.0</td>\n",
       "      <td>631.0</td>\n",
       "      <td>637.0</td>\n",
       "      <td>648.0</td>\n",
       "      <td>...</td>\n",
       "      <td>815.0</td>\n",
       "      <td>833.0</td>\n",
       "      <td>877.0</td>\n",
       "      <td>891.0</td>\n",
       "      <td>925.0</td>\n",
       "      <td>954.0</td>\n",
       "      <td>976.0</td>\n",
       "      <td>1005.0</td>\n",
       "      <td>1048.0</td>\n",
       "      <td>1063.0</td>\n",
       "    </tr>\n",
       "    <tr>\n",
       "      <th>2</th>\n",
       "      <td>Moncton</td>\n",
       "      <td>469.0</td>\n",
       "      <td>479.0</td>\n",
       "      <td>495.0</td>\n",
       "      <td>504.0</td>\n",
       "      <td>513.0</td>\n",
       "      <td>523.0</td>\n",
       "      <td>531.0</td>\n",
       "      <td>538.0</td>\n",
       "      <td>560.0</td>\n",
       "      <td>...</td>\n",
       "      <td>643.0</td>\n",
       "      <td>656.0</td>\n",
       "      <td>675.0</td>\n",
       "      <td>691.0</td>\n",
       "      <td>715.0</td>\n",
       "      <td>731.0</td>\n",
       "      <td>742.0</td>\n",
       "      <td>762.0</td>\n",
       "      <td>760.0</td>\n",
       "      <td>798.0</td>\n",
       "    </tr>\n",
       "    <tr>\n",
       "      <th>3</th>\n",
       "      <td>Saint John</td>\n",
       "      <td>429.0</td>\n",
       "      <td>436.0</td>\n",
       "      <td>439.0</td>\n",
       "      <td>437.0</td>\n",
       "      <td>441.0</td>\n",
       "      <td>449.0</td>\n",
       "      <td>452.0</td>\n",
       "      <td>457.0</td>\n",
       "      <td>460.0</td>\n",
       "      <td>...</td>\n",
       "      <td>570.0</td>\n",
       "      <td>618.0</td>\n",
       "      <td>644.0</td>\n",
       "      <td>645.0</td>\n",
       "      <td>670.0</td>\n",
       "      <td>691.0</td>\n",
       "      <td>691.0</td>\n",
       "      <td>714.0</td>\n",
       "      <td>718.0</td>\n",
       "      <td>720.0</td>\n",
       "    </tr>\n",
       "    <tr>\n",
       "      <th>4</th>\n",
       "      <td>Saguenay</td>\n",
       "      <td>420.0</td>\n",
       "      <td>419.0</td>\n",
       "      <td>416.0</td>\n",
       "      <td>417.0</td>\n",
       "      <td>423.0</td>\n",
       "      <td>425.0</td>\n",
       "      <td>428.0</td>\n",
       "      <td>428.0</td>\n",
       "      <td>438.0</td>\n",
       "      <td>...</td>\n",
       "      <td>490.0</td>\n",
       "      <td>518.0</td>\n",
       "      <td>518.0</td>\n",
       "      <td>535.0</td>\n",
       "      <td>557.0</td>\n",
       "      <td>549.0</td>\n",
       "      <td>571.0</td>\n",
       "      <td>595.0</td>\n",
       "      <td>598.0</td>\n",
       "      <td>587.0</td>\n",
       "    </tr>\n",
       "  </tbody>\n",
       "</table>\n",
       "<p>5 rows × 26 columns</p>\n",
       "</div>"
      ],
      "text/plain": [
       "         City   1992   1993   1994   1995   1996   1997   1998   1999   2000  \\\n",
       "0  St. JohnÕs  566.0  554.0  559.0  565.0  570.0  567.0  513.0  517.0  552.0   \n",
       "1     Halifax  595.0  604.0  610.0  615.0  617.0  616.0  631.0  637.0  648.0   \n",
       "2     Moncton  469.0  479.0  495.0  504.0  513.0  523.0  531.0  538.0  560.0   \n",
       "3  Saint John  429.0  436.0  439.0  437.0  441.0  449.0  452.0  457.0  460.0   \n",
       "4    Saguenay  420.0  419.0  416.0  417.0  423.0  425.0  428.0  428.0  438.0   \n",
       "\n",
       "   ...   2007   2008   2009   2010   2011   2012   2013    2014    2015  \\\n",
       "0  ...  614.0  630.0  677.0  725.0  771.0  798.0  864.0   888.0   923.0   \n",
       "1  ...  815.0  833.0  877.0  891.0  925.0  954.0  976.0  1005.0  1048.0   \n",
       "2  ...  643.0  656.0  675.0  691.0  715.0  731.0  742.0   762.0   760.0   \n",
       "3  ...  570.0  618.0  644.0  645.0  670.0  691.0  691.0   714.0   718.0   \n",
       "4  ...  490.0  518.0  518.0  535.0  557.0  549.0  571.0   595.0   598.0   \n",
       "\n",
       "     2016  \n",
       "0   958.0  \n",
       "1  1063.0  \n",
       "2   798.0  \n",
       "3   720.0  \n",
       "4   587.0  \n",
       "\n",
       "[5 rows x 26 columns]"
      ]
     },
     "execution_count": 63,
     "metadata": {},
     "output_type": "execute_result"
    }
   ],
   "source": [
    "# Importing the Renter Household data\n",
    "rent= pd.read_csv(r\"C:\\\\Users\\\\susie\\\\Documents\\\\Data Science\\\\Capstone data\\\\Average price 2 bedrooms.csv\"\n",
    "                   ,encoding=\"latin\")\n",
    "rent.head(5)"
   ]
  },
  {
   "cell_type": "markdown",
   "metadata": {},
   "source": [
    "# Finding the to 10 hightest and lowest rent prices for 2 bedroom apartments.\n"
   ]
  },
  {
   "cell_type": "code",
   "execution_count": 4,
   "metadata": {},
   "outputs": [
    {
     "data": {
      "text/html": [
       "<div>\n",
       "<style scoped>\n",
       "    .dataframe tbody tr th:only-of-type {\n",
       "        vertical-align: middle;\n",
       "    }\n",
       "\n",
       "    .dataframe tbody tr th {\n",
       "        vertical-align: top;\n",
       "    }\n",
       "\n",
       "    .dataframe thead th {\n",
       "        text-align: right;\n",
       "    }\n",
       "</style>\n",
       "<table border=\"1\" class=\"dataframe\">\n",
       "  <thead>\n",
       "    <tr style=\"text-align: right;\">\n",
       "      <th></th>\n",
       "      <th>City</th>\n",
       "      <th>1992</th>\n",
       "      <th>1993</th>\n",
       "      <th>1994</th>\n",
       "      <th>1995</th>\n",
       "      <th>1996</th>\n",
       "      <th>1997</th>\n",
       "      <th>1998</th>\n",
       "      <th>1999</th>\n",
       "      <th>2000</th>\n",
       "      <th>...</th>\n",
       "      <th>2007</th>\n",
       "      <th>2008</th>\n",
       "      <th>2009</th>\n",
       "      <th>2010</th>\n",
       "      <th>2011</th>\n",
       "      <th>2012</th>\n",
       "      <th>2013</th>\n",
       "      <th>2014</th>\n",
       "      <th>2015</th>\n",
       "      <th>2016</th>\n",
       "    </tr>\n",
       "  </thead>\n",
       "  <tbody>\n",
       "    <tr>\n",
       "      <th>32</th>\n",
       "      <td>Vancouver</td>\n",
       "      <td>771.0</td>\n",
       "      <td>790.0</td>\n",
       "      <td>812.0</td>\n",
       "      <td>826.0</td>\n",
       "      <td>845.0</td>\n",
       "      <td>852.0</td>\n",
       "      <td>870.0</td>\n",
       "      <td>864.0</td>\n",
       "      <td>890.0</td>\n",
       "      <td>...</td>\n",
       "      <td>1084.0</td>\n",
       "      <td>1124.0</td>\n",
       "      <td>1169.0</td>\n",
       "      <td>1195.0</td>\n",
       "      <td>1237.0</td>\n",
       "      <td>1261.0</td>\n",
       "      <td>1281.0</td>\n",
       "      <td>1311.0</td>\n",
       "      <td>1368.0</td>\n",
       "      <td>1450.0</td>\n",
       "    </tr>\n",
       "    <tr>\n",
       "      <th>14</th>\n",
       "      <td>Toronto</td>\n",
       "      <td>754.0</td>\n",
       "      <td>773.0</td>\n",
       "      <td>784.0</td>\n",
       "      <td>805.0</td>\n",
       "      <td>819.0</td>\n",
       "      <td>821.0</td>\n",
       "      <td>881.0</td>\n",
       "      <td>916.0</td>\n",
       "      <td>979.0</td>\n",
       "      <td>...</td>\n",
       "      <td>1061.0</td>\n",
       "      <td>1095.0</td>\n",
       "      <td>1096.0</td>\n",
       "      <td>1123.0</td>\n",
       "      <td>1149.0</td>\n",
       "      <td>1183.0</td>\n",
       "      <td>1213.0</td>\n",
       "      <td>1251.0</td>\n",
       "      <td>1288.0</td>\n",
       "      <td>1327.0</td>\n",
       "    </tr>\n",
       "    <tr>\n",
       "      <th>10</th>\n",
       "      <td>Ottawa</td>\n",
       "      <td>700.0</td>\n",
       "      <td>727.0</td>\n",
       "      <td>738.0</td>\n",
       "      <td>738.0</td>\n",
       "      <td>739.0</td>\n",
       "      <td>729.0</td>\n",
       "      <td>754.0</td>\n",
       "      <td>783.0</td>\n",
       "      <td>877.0</td>\n",
       "      <td>...</td>\n",
       "      <td>961.0</td>\n",
       "      <td>995.0</td>\n",
       "      <td>1028.0</td>\n",
       "      <td>1048.0</td>\n",
       "      <td>1086.0</td>\n",
       "      <td>1115.0</td>\n",
       "      <td>1132.0</td>\n",
       "      <td>1132.0</td>\n",
       "      <td>1174.0</td>\n",
       "      <td>1201.0</td>\n",
       "    </tr>\n",
       "    <tr>\n",
       "      <th>33</th>\n",
       "      <td>Victoria</td>\n",
       "      <td>684.0</td>\n",
       "      <td>703.0</td>\n",
       "      <td>713.0</td>\n",
       "      <td>715.0</td>\n",
       "      <td>717.0</td>\n",
       "      <td>724.0</td>\n",
       "      <td>722.0</td>\n",
       "      <td>728.0</td>\n",
       "      <td>731.0</td>\n",
       "      <td>...</td>\n",
       "      <td>907.0</td>\n",
       "      <td>965.0</td>\n",
       "      <td>1001.0</td>\n",
       "      <td>1024.0</td>\n",
       "      <td>1045.0</td>\n",
       "      <td>1059.0</td>\n",
       "      <td>1068.0</td>\n",
       "      <td>1095.0</td>\n",
       "      <td>1128.0</td>\n",
       "      <td>1188.0</td>\n",
       "    </tr>\n",
       "    <tr>\n",
       "      <th>22</th>\n",
       "      <td>Barrie</td>\n",
       "      <td>653.0</td>\n",
       "      <td>670.0</td>\n",
       "      <td>687.0</td>\n",
       "      <td>712.0</td>\n",
       "      <td>713.0</td>\n",
       "      <td>737.0</td>\n",
       "      <td>774.0</td>\n",
       "      <td>788.0</td>\n",
       "      <td>830.0</td>\n",
       "      <td>...</td>\n",
       "      <td>934.0</td>\n",
       "      <td>954.0</td>\n",
       "      <td>961.0</td>\n",
       "      <td>968.0</td>\n",
       "      <td>1001.0</td>\n",
       "      <td>1037.0</td>\n",
       "      <td>1048.0</td>\n",
       "      <td>1118.0</td>\n",
       "      <td>1167.0</td>\n",
       "      <td>1150.0</td>\n",
       "    </tr>\n",
       "    <tr>\n",
       "      <th>13</th>\n",
       "      <td>Oshawa</td>\n",
       "      <td>651.0</td>\n",
       "      <td>659.0</td>\n",
       "      <td>659.0</td>\n",
       "      <td>689.0</td>\n",
       "      <td>700.0</td>\n",
       "      <td>691.0</td>\n",
       "      <td>726.0</td>\n",
       "      <td>745.0</td>\n",
       "      <td>778.0</td>\n",
       "      <td>...</td>\n",
       "      <td>877.0</td>\n",
       "      <td>889.0</td>\n",
       "      <td>900.0</td>\n",
       "      <td>903.0</td>\n",
       "      <td>941.0</td>\n",
       "      <td>939.0</td>\n",
       "      <td>985.0</td>\n",
       "      <td>1010.0</td>\n",
       "      <td>1035.0</td>\n",
       "      <td>1109.0</td>\n",
       "    </tr>\n",
       "    <tr>\n",
       "      <th>24</th>\n",
       "      <td>Thunder Bay</td>\n",
       "      <td>620.0</td>\n",
       "      <td>632.0</td>\n",
       "      <td>655.0</td>\n",
       "      <td>659.0</td>\n",
       "      <td>672.0</td>\n",
       "      <td>666.0</td>\n",
       "      <td>647.0</td>\n",
       "      <td>647.0</td>\n",
       "      <td>654.0</td>\n",
       "      <td>...</td>\n",
       "      <td>709.0</td>\n",
       "      <td>719.0</td>\n",
       "      <td>742.0</td>\n",
       "      <td>763.0</td>\n",
       "      <td>772.0</td>\n",
       "      <td>818.0</td>\n",
       "      <td>858.0</td>\n",
       "      <td>888.0</td>\n",
       "      <td>917.0</td>\n",
       "      <td>940.0</td>\n",
       "    </tr>\n",
       "    <tr>\n",
       "      <th>21</th>\n",
       "      <td>Windsor</td>\n",
       "      <td>620.0</td>\n",
       "      <td>631.0</td>\n",
       "      <td>643.0</td>\n",
       "      <td>667.0</td>\n",
       "      <td>682.0</td>\n",
       "      <td>680.0</td>\n",
       "      <td>680.0</td>\n",
       "      <td>696.0</td>\n",
       "      <td>736.0</td>\n",
       "      <td>...</td>\n",
       "      <td>773.0</td>\n",
       "      <td>772.0</td>\n",
       "      <td>747.0</td>\n",
       "      <td>752.0</td>\n",
       "      <td>753.0</td>\n",
       "      <td>778.0</td>\n",
       "      <td>788.0</td>\n",
       "      <td>798.0</td>\n",
       "      <td>824.0</td>\n",
       "      <td>852.0</td>\n",
       "    </tr>\n",
       "    <tr>\n",
       "      <th>19</th>\n",
       "      <td>Guelph</td>\n",
       "      <td>618.0</td>\n",
       "      <td>626.0</td>\n",
       "      <td>642.0</td>\n",
       "      <td>642.0</td>\n",
       "      <td>658.0</td>\n",
       "      <td>678.0</td>\n",
       "      <td>686.0</td>\n",
       "      <td>702.0</td>\n",
       "      <td>736.0</td>\n",
       "      <td>...</td>\n",
       "      <td>848.0</td>\n",
       "      <td>869.0</td>\n",
       "      <td>874.0</td>\n",
       "      <td>887.0</td>\n",
       "      <td>903.0</td>\n",
       "      <td>941.0</td>\n",
       "      <td>957.0</td>\n",
       "      <td>988.0</td>\n",
       "      <td>1027.0</td>\n",
       "      <td>1078.0</td>\n",
       "    </tr>\n",
       "    <tr>\n",
       "      <th>31</th>\n",
       "      <td>Abbotsford-Mission</td>\n",
       "      <td>615.0</td>\n",
       "      <td>635.0</td>\n",
       "      <td>640.0</td>\n",
       "      <td>651.0</td>\n",
       "      <td>645.0</td>\n",
       "      <td>628.0</td>\n",
       "      <td>633.0</td>\n",
       "      <td>630.0</td>\n",
       "      <td>632.0</td>\n",
       "      <td>...</td>\n",
       "      <td>752.0</td>\n",
       "      <td>765.0</td>\n",
       "      <td>781.0</td>\n",
       "      <td>785.0</td>\n",
       "      <td>800.0</td>\n",
       "      <td>818.0</td>\n",
       "      <td>820.0</td>\n",
       "      <td>835.0</td>\n",
       "      <td>864.0</td>\n",
       "      <td>915.0</td>\n",
       "    </tr>\n",
       "  </tbody>\n",
       "</table>\n",
       "<p>10 rows × 26 columns</p>\n",
       "</div>"
      ],
      "text/plain": [
       "                  City   1992   1993   1994   1995   1996   1997   1998  \\\n",
       "32           Vancouver  771.0  790.0  812.0  826.0  845.0  852.0  870.0   \n",
       "14             Toronto  754.0  773.0  784.0  805.0  819.0  821.0  881.0   \n",
       "10              Ottawa  700.0  727.0  738.0  738.0  739.0  729.0  754.0   \n",
       "33            Victoria  684.0  703.0  713.0  715.0  717.0  724.0  722.0   \n",
       "22              Barrie  653.0  670.0  687.0  712.0  713.0  737.0  774.0   \n",
       "13              Oshawa  651.0  659.0  659.0  689.0  700.0  691.0  726.0   \n",
       "24         Thunder Bay  620.0  632.0  655.0  659.0  672.0  666.0  647.0   \n",
       "21             Windsor  620.0  631.0  643.0  667.0  682.0  680.0  680.0   \n",
       "19              Guelph  618.0  626.0  642.0  642.0  658.0  678.0  686.0   \n",
       "31  Abbotsford-Mission  615.0  635.0  640.0  651.0  645.0  628.0  633.0   \n",
       "\n",
       "     1999   2000  ...    2007    2008    2009    2010    2011    2012    2013  \\\n",
       "32  864.0  890.0  ...  1084.0  1124.0  1169.0  1195.0  1237.0  1261.0  1281.0   \n",
       "14  916.0  979.0  ...  1061.0  1095.0  1096.0  1123.0  1149.0  1183.0  1213.0   \n",
       "10  783.0  877.0  ...   961.0   995.0  1028.0  1048.0  1086.0  1115.0  1132.0   \n",
       "33  728.0  731.0  ...   907.0   965.0  1001.0  1024.0  1045.0  1059.0  1068.0   \n",
       "22  788.0  830.0  ...   934.0   954.0   961.0   968.0  1001.0  1037.0  1048.0   \n",
       "13  745.0  778.0  ...   877.0   889.0   900.0   903.0   941.0   939.0   985.0   \n",
       "24  647.0  654.0  ...   709.0   719.0   742.0   763.0   772.0   818.0   858.0   \n",
       "21  696.0  736.0  ...   773.0   772.0   747.0   752.0   753.0   778.0   788.0   \n",
       "19  702.0  736.0  ...   848.0   869.0   874.0   887.0   903.0   941.0   957.0   \n",
       "31  630.0  632.0  ...   752.0   765.0   781.0   785.0   800.0   818.0   820.0   \n",
       "\n",
       "      2014    2015    2016  \n",
       "32  1311.0  1368.0  1450.0  \n",
       "14  1251.0  1288.0  1327.0  \n",
       "10  1132.0  1174.0  1201.0  \n",
       "33  1095.0  1128.0  1188.0  \n",
       "22  1118.0  1167.0  1150.0  \n",
       "13  1010.0  1035.0  1109.0  \n",
       "24   888.0   917.0   940.0  \n",
       "21   798.0   824.0   852.0  \n",
       "19   988.0  1027.0  1078.0  \n",
       "31   835.0   864.0   915.0  \n",
       "\n",
       "[10 rows x 26 columns]"
      ]
     },
     "execution_count": 4,
     "metadata": {},
     "output_type": "execute_result"
    }
   ],
   "source": [
    "# Using the n.largest I will search the data to find the highest prices for 2 bedroom apartments.\n",
    "lrg = rent.nlargest(10, ['1992', '1993', '1994', '1995', '1996', '1997', '1998', '1999',\n",
    "       '2000', '2001', '2002', '2003', '2004', '2005', '2006', '2007', '2008',\n",
    "       '2009', '2010', '2011', '2012', '2013', '2014', '2015', '2016'])\n",
    "lrg"
   ]
  },
  {
   "cell_type": "code",
   "execution_count": 5,
   "metadata": {},
   "outputs": [],
   "source": [
    "# The outputs above shows the 10 least exensive cities to rent apartments. "
   ]
  },
  {
   "cell_type": "markdown",
   "metadata": {},
   "source": [
    "# Here we are filtering the rent dataset to find the top 10 least expensive cities"
   ]
  },
  {
   "cell_type": "code",
   "execution_count": 33,
   "metadata": {},
   "outputs": [
    {
     "data": {
      "text/html": [
       "<div>\n",
       "<style scoped>\n",
       "    .dataframe tbody tr th:only-of-type {\n",
       "        vertical-align: middle;\n",
       "    }\n",
       "\n",
       "    .dataframe tbody tr th {\n",
       "        vertical-align: top;\n",
       "    }\n",
       "\n",
       "    .dataframe thead th {\n",
       "        text-align: right;\n",
       "    }\n",
       "</style>\n",
       "<table border=\"1\" class=\"dataframe\">\n",
       "  <thead>\n",
       "    <tr style=\"text-align: right;\">\n",
       "      <th></th>\n",
       "      <th>City</th>\n",
       "      <th>1992</th>\n",
       "      <th>1993</th>\n",
       "      <th>1994</th>\n",
       "      <th>1995</th>\n",
       "      <th>1996</th>\n",
       "      <th>1997</th>\n",
       "      <th>1998</th>\n",
       "      <th>1999</th>\n",
       "      <th>2000</th>\n",
       "      <th>...</th>\n",
       "      <th>2008</th>\n",
       "      <th>2009</th>\n",
       "      <th>2010</th>\n",
       "      <th>2011</th>\n",
       "      <th>2012</th>\n",
       "      <th>2013</th>\n",
       "      <th>2014</th>\n",
       "      <th>2015</th>\n",
       "      <th>2016</th>\n",
       "      <th>Unnamed: 26</th>\n",
       "    </tr>\n",
       "  </thead>\n",
       "  <tbody>\n",
       "    <tr>\n",
       "      <th>18</th>\n",
       "      <td>Trois-Rivires</td>\n",
       "      <td>395</td>\n",
       "      <td>400</td>\n",
       "      <td>402</td>\n",
       "      <td>406</td>\n",
       "      <td>405</td>\n",
       "      <td>406</td>\n",
       "      <td>411</td>\n",
       "      <td>403</td>\n",
       "      <td>413</td>\n",
       "      <td>...</td>\n",
       "      <td>505</td>\n",
       "      <td>520</td>\n",
       "      <td>533</td>\n",
       "      <td>547</td>\n",
       "      <td>550</td>\n",
       "      <td>555</td>\n",
       "      <td>568</td>\n",
       "      <td>581</td>\n",
       "      <td>587</td>\n",
       "      <td>NaN</td>\n",
       "    </tr>\n",
       "    <tr>\n",
       "      <th>17</th>\n",
       "      <td>Sherbrooke</td>\n",
       "      <td>408</td>\n",
       "      <td>418</td>\n",
       "      <td>420</td>\n",
       "      <td>422</td>\n",
       "      <td>426</td>\n",
       "      <td>426</td>\n",
       "      <td>433</td>\n",
       "      <td>434</td>\n",
       "      <td>437</td>\n",
       "      <td>...</td>\n",
       "      <td>543</td>\n",
       "      <td>553</td>\n",
       "      <td>566</td>\n",
       "      <td>577</td>\n",
       "      <td>578</td>\n",
       "      <td>591</td>\n",
       "      <td>604</td>\n",
       "      <td>608</td>\n",
       "      <td>622</td>\n",
       "      <td>NaN</td>\n",
       "    </tr>\n",
       "    <tr>\n",
       "      <th>15</th>\n",
       "      <td>Saguenay</td>\n",
       "      <td>420</td>\n",
       "      <td>419</td>\n",
       "      <td>416</td>\n",
       "      <td>417</td>\n",
       "      <td>423</td>\n",
       "      <td>425</td>\n",
       "      <td>428</td>\n",
       "      <td>428</td>\n",
       "      <td>438</td>\n",
       "      <td>...</td>\n",
       "      <td>518</td>\n",
       "      <td>518</td>\n",
       "      <td>535</td>\n",
       "      <td>557</td>\n",
       "      <td>549</td>\n",
       "      <td>571</td>\n",
       "      <td>595</td>\n",
       "      <td>598</td>\n",
       "      <td>587</td>\n",
       "      <td>NaN</td>\n",
       "    </tr>\n",
       "    <tr>\n",
       "      <th>14</th>\n",
       "      <td>Saint John</td>\n",
       "      <td>429</td>\n",
       "      <td>436</td>\n",
       "      <td>439</td>\n",
       "      <td>437</td>\n",
       "      <td>441</td>\n",
       "      <td>449</td>\n",
       "      <td>452</td>\n",
       "      <td>457</td>\n",
       "      <td>460</td>\n",
       "      <td>...</td>\n",
       "      <td>618</td>\n",
       "      <td>644</td>\n",
       "      <td>645</td>\n",
       "      <td>670</td>\n",
       "      <td>691</td>\n",
       "      <td>691</td>\n",
       "      <td>714</td>\n",
       "      <td>718</td>\n",
       "      <td>720</td>\n",
       "      <td>NaN</td>\n",
       "    </tr>\n",
       "    <tr>\n",
       "      <th>38</th>\n",
       "      <td>Saskatoon</td>\n",
       "      <td>444</td>\n",
       "      <td>449</td>\n",
       "      <td>452</td>\n",
       "      <td>460</td>\n",
       "      <td>479</td>\n",
       "      <td>500</td>\n",
       "      <td>516</td>\n",
       "      <td>529</td>\n",
       "      <td>541</td>\n",
       "      <td>...</td>\n",
       "      <td>841</td>\n",
       "      <td>905</td>\n",
       "      <td>934</td>\n",
       "      <td>966</td>\n",
       "      <td>1002</td>\n",
       "      <td>1041</td>\n",
       "      <td>1091</td>\n",
       "      <td>1087</td>\n",
       "      <td>1100</td>\n",
       "      <td>NaN</td>\n",
       "    </tr>\n",
       "    <tr>\n",
       "      <th>8</th>\n",
       "      <td>Saskatchewan</td>\n",
       "      <td>454</td>\n",
       "      <td>458</td>\n",
       "      <td>459</td>\n",
       "      <td>465</td>\n",
       "      <td>477</td>\n",
       "      <td>494</td>\n",
       "      <td>507</td>\n",
       "      <td>522</td>\n",
       "      <td>529</td>\n",
       "      <td>...</td>\n",
       "      <td>762</td>\n",
       "      <td>833</td>\n",
       "      <td>873</td>\n",
       "      <td>914</td>\n",
       "      <td>958</td>\n",
       "      <td>995</td>\n",
       "      <td>1048</td>\n",
       "      <td>1051</td>\n",
       "      <td>1052</td>\n",
       "      <td>NaN</td>\n",
       "    </tr>\n",
       "    <tr>\n",
       "      <th>4</th>\n",
       "      <td>New Brunswick</td>\n",
       "      <td>461</td>\n",
       "      <td>470</td>\n",
       "      <td>479</td>\n",
       "      <td>484</td>\n",
       "      <td>490</td>\n",
       "      <td>499</td>\n",
       "      <td>503</td>\n",
       "      <td>510</td>\n",
       "      <td>515</td>\n",
       "      <td>...</td>\n",
       "      <td>635</td>\n",
       "      <td>656</td>\n",
       "      <td>668</td>\n",
       "      <td>687</td>\n",
       "      <td>707</td>\n",
       "      <td>715</td>\n",
       "      <td>735</td>\n",
       "      <td>744</td>\n",
       "      <td>763</td>\n",
       "      <td>NaN</td>\n",
       "    </tr>\n",
       "    <tr>\n",
       "      <th>13</th>\n",
       "      <td>Moncton</td>\n",
       "      <td>469</td>\n",
       "      <td>479</td>\n",
       "      <td>495</td>\n",
       "      <td>504</td>\n",
       "      <td>513</td>\n",
       "      <td>523</td>\n",
       "      <td>531</td>\n",
       "      <td>538</td>\n",
       "      <td>560</td>\n",
       "      <td>...</td>\n",
       "      <td>656</td>\n",
       "      <td>675</td>\n",
       "      <td>691</td>\n",
       "      <td>715</td>\n",
       "      <td>731</td>\n",
       "      <td>742</td>\n",
       "      <td>762</td>\n",
       "      <td>760</td>\n",
       "      <td>798</td>\n",
       "      <td>NaN</td>\n",
       "    </tr>\n",
       "    <tr>\n",
       "      <th>5</th>\n",
       "      <td>Quebec</td>\n",
       "      <td>473</td>\n",
       "      <td>471</td>\n",
       "      <td>472</td>\n",
       "      <td>481</td>\n",
       "      <td>479</td>\n",
       "      <td>479</td>\n",
       "      <td>486</td>\n",
       "      <td>491</td>\n",
       "      <td>495</td>\n",
       "      <td>...</td>\n",
       "      <td>628</td>\n",
       "      <td>640</td>\n",
       "      <td>666</td>\n",
       "      <td>684</td>\n",
       "      <td>681</td>\n",
       "      <td>699</td>\n",
       "      <td>711</td>\n",
       "      <td>728</td>\n",
       "      <td>751</td>\n",
       "      <td>NaN</td>\n",
       "    </tr>\n",
       "    <tr>\n",
       "      <th>37</th>\n",
       "      <td>Regina</td>\n",
       "      <td>484</td>\n",
       "      <td>487</td>\n",
       "      <td>485</td>\n",
       "      <td>487</td>\n",
       "      <td>494</td>\n",
       "      <td>512</td>\n",
       "      <td>525</td>\n",
       "      <td>547</td>\n",
       "      <td>549</td>\n",
       "      <td>...</td>\n",
       "      <td>756</td>\n",
       "      <td>832</td>\n",
       "      <td>881</td>\n",
       "      <td>932</td>\n",
       "      <td>979</td>\n",
       "      <td>1018</td>\n",
       "      <td>1079</td>\n",
       "      <td>1097</td>\n",
       "      <td>1109</td>\n",
       "      <td>NaN</td>\n",
       "    </tr>\n",
       "  </tbody>\n",
       "</table>\n",
       "<p>10 rows × 27 columns</p>\n",
       "</div>"
      ],
      "text/plain": [
       "              City  1992  1993  1994  1995  1996  1997  1998  1999  2000  ...  \\\n",
       "18  Trois-Rivires   395   400   402   406   405   406   411   403   413  ...   \n",
       "17     Sherbrooke    408   418   420   422   426   426   433   434   437  ...   \n",
       "15        Saguenay   420   419   416   417   423   425   428   428   438  ...   \n",
       "14      Saint John   429   436   439   437   441   449   452   457   460  ...   \n",
       "38       Saskatoon   444   449   452   460   479   500   516   529   541  ...   \n",
       "8     Saskatchewan   454   458   459   465   477   494   507   522   529  ...   \n",
       "4    New Brunswick   461   470   479   484   490   499   503   510   515  ...   \n",
       "13         Moncton   469   479   495   504   513   523   531   538   560  ...   \n",
       "5           Quebec   473   471   472   481   479   479   486   491   495  ...   \n",
       "37          Regina   484   487   485   487   494   512   525   547   549  ...   \n",
       "\n",
       "    2008  2009  2010  2011  2012  2013  2014  2015  2016  Unnamed: 26  \n",
       "18   505   520   533   547   550   555   568   581   587          NaN  \n",
       "17   543   553   566   577   578   591   604   608   622          NaN  \n",
       "15   518   518   535   557   549   571   595   598   587          NaN  \n",
       "14   618   644   645   670   691   691   714   718   720          NaN  \n",
       "38   841   905   934   966  1002  1041  1091  1087  1100          NaN  \n",
       "8    762   833   873   914   958   995  1048  1051  1052          NaN  \n",
       "4    635   656   668   687   707   715   735   744   763          NaN  \n",
       "13   656   675   691   715   731   742   762   760   798          NaN  \n",
       "5    628   640   666   684   681   699   711   728   751          NaN  \n",
       "37   756   832   881   932   979  1018  1079  1097  1109          NaN  \n",
       "\n",
       "[10 rows x 27 columns]"
      ]
     },
     "execution_count": 33,
     "metadata": {},
     "output_type": "execute_result"
    }
   ],
   "source": [
    "# The .nsmallest was used t get the cities with the lowest prices for 2 bedroom apartments\n",
    "sml = rent.nsmallest(10, ['1992', '1993', '1994', '1995', '1996', '1997', '1998', '1999',\n",
    "       '2000', '2001', '2002', '2003', '2004', '2005', '2006', '2007', '2008',\n",
    "       '2009', '2010', '2011', '2012', '2013', '2014', '2015', '2016'])\n",
    "sml"
   ]
  },
  {
   "cell_type": "code",
   "execution_count": 7,
   "metadata": {},
   "outputs": [],
   "source": [
    "# # Above we have the top 10 cities with the highest rent prices.\n",
    "# Theses are the cities and price we are going to focus on the reason being we are trying to find the best livable cities."
   ]
  },
  {
   "cell_type": "code",
   "execution_count": 8,
   "metadata": {},
   "outputs": [
    {
     "data": {
      "image/png": "[encoded data removed]",
      "text/plain": [
       "<Figure size 720x720 with 2 Axes>"
      ]
     },
     "metadata": {
      "needs_background": "light"
     },
     "output_type": "display_data"
    }
   ],
   "source": [
    "# Plotting the correlation data to get a better visual on the graph\n",
    "f,ax = plt.subplots(figsize=(10,10))\n",
    "sns.heatmap(sml.corr(), annot = True,linewidths=.4, fmt='.1f', ax=ax)\n",
    "plt.show()"
   ]
  },
  {
   "cell_type": "code",
   "execution_count": 9,
   "metadata": {},
   "outputs": [],
   "source": [
    "# What this allows us to do is quickly see which features have the most significant (positive) correlations, and \n",
    "# also see which features are unlikely to be relevant. \n",
    "#In the top 10 least expensive cites 2001,2002, and 1999 appears to have the strongest correlation in the data."
   ]
  },
  {
   "cell_type": "code",
   "execution_count": 34,
   "metadata": {},
   "outputs": [],
   "source": [
    "#Renaming 2001 column name\n",
    "sml.rename(columns={'2001': 'price1'}, inplace=True)\n"
   ]
  },
  {
   "cell_type": "code",
   "execution_count": 35,
   "metadata": {},
   "outputs": [],
   "source": [
    "#Renaming 2001 column name\n",
    "sml.rename(columns={'2002': 'price2'}, inplace=True)"
   ]
  },
  {
   "cell_type": "code",
   "execution_count": 36,
   "metadata": {},
   "outputs": [],
   "source": [
    "#Renaming 2001 column name\n",
    "sml.rename(columns={'1999': 'price99'}, inplace=True)"
   ]
  },
  {
   "cell_type": "code",
   "execution_count": 13,
   "metadata": {},
   "outputs": [],
   "source": [
    "# I have renaemd the columns above because I have choose the will be using these columns to do my predictions."
   ]
  },
  {
   "cell_type": "code",
   "execution_count": 14,
   "metadata": {},
   "outputs": [
    {
     "data": {
      "text/plain": [
       "price1     1.000000\n",
       "price2     0.995692\n",
       "price99    0.994746\n",
       "1998       0.993294\n",
       "2000       0.988753\n",
       "1997       0.983749\n",
       "2003       0.979227\n",
       "2007       0.970616\n",
       "2004       0.961204\n",
       "2006       0.953410\n",
       "Name: price1, dtype: float64"
      ]
     },
     "execution_count": 14,
     "metadata": {},
     "output_type": "execute_result"
    }
   ],
   "source": [
    "#Show the top 10 feature which have strongest correlation with SalePrice\n",
    "corr_rent = sml.corr().price1\n",
    "corr_field = corr_rent.sort_values(ascending = False).head(10)\n",
    "corr_field"
   ]
  },
  {
   "cell_type": "code",
   "execution_count": 15,
   "metadata": {},
   "outputs": [
    {
     "name": "stdout",
     "output_type": "stream",
     "text": [
      "\n",
      " mu = 511.40 and sigma = 56.13\n",
      "\n"
     ]
    },
    {
     "data": {
      "image/png": "[encoded data removed]",
      "text/plain": [
       "<Figure size 432x288 with 1 Axes>"
      ]
     },
     "metadata": {
      "needs_background": "light"
     },
     "output_type": "display_data"
    },
    {
     "data": {
      "image/png": "[encoded data removed]",
      "text/plain": [
       "<Figure size 432x288 with 1 Axes>"
      ]
     },
     "metadata": {
      "needs_background": "light"
     },
     "output_type": "display_data"
    }
   ],
   "source": [
    "## let's do some analysis on this variable first.\n",
    "from scipy import stats\n",
    "from scipy.stats import norm, skew #for some statistics\n",
    "\n",
    "sns.distplot(sml['price1'] , fit=norm);\n",
    "\n",
    "# Get the fitted parameters used by the function\n",
    "(mu, sigma) = norm.fit(sml['price1'])\n",
    "print( '\\n mu = {:.2f} and sigma = {:.2f}\\n'.format(mu, sigma))\n",
    "plt.legend(['Normal dist. ($\\mu=$ {:.2f} and $\\sigma=$ {:.2f} )'.format(mu, sigma)],\n",
    "            loc='best')\n",
    "plt.ylabel('Frequency')\n",
    "plt.title('RentPrice distribution')\n",
    "\n",
    "fig = plt.figure()\n",
    "res = stats.probplot(sml['price1'], plot=plt)\n",
    "plt.show()"
   ]
  },
  {
   "cell_type": "code",
   "execution_count": 16,
   "metadata": {},
   "outputs": [],
   "source": [
    "# The probability plot plots the data and calculates a best-fit line for the data.\n",
    "# The default is ‘norm’ for a normal probability plot. "
   ]
  },
  {
   "cell_type": "code",
   "execution_count": 17,
   "metadata": {},
   "outputs": [
    {
     "name": "stdout",
     "output_type": "stream",
     "text": [
      "Skewness: -0.542017\n",
      "Kurtosis: -1.573471\n"
     ]
    }
   ],
   "source": [
    "#skewness and kurtosis\n",
    "print(\"Skewness: %f\" % sml['price1'].skew())\n",
    "print(\"Kurtosis: %f\" % sml['price1'].kurt())"
   ]
  },
  {
   "cell_type": "code",
   "execution_count": 18,
   "metadata": {},
   "outputs": [
    {
     "data": {
      "text/plain": [
       "<matplotlib.axes._subplots.AxesSubplot at 0x1a922b08ac8>"
      ]
     },
     "execution_count": 18,
     "metadata": {},
     "output_type": "execute_result"
    },
    {
     "data": {
      "image/png": "[encoded data removed]",
      "text/plain": [
       "<Figure size 432x288 with 1 Axes>"
      ]
     },
     "metadata": {
      "needs_background": "light"
     },
     "output_type": "display_data"
    },
    {
     "data": {
      "image/png": "[encoded data removed]",
      "text/plain": [
       "<Figure size 432x288 with 1 Axes>"
      ]
     },
     "metadata": {
      "needs_background": "light"
     },
     "output_type": "display_data"
    },
    {
     "data": {
      "image/png": "[encoded data removed]",
      "text/plain": [
       "<Figure size 432x288 with 1 Axes>"
      ]
     },
     "metadata": {
      "needs_background": "light"
     },
     "output_type": "display_data"
    }
   ],
   "source": [
    "#  Johnson Su distribution plot for 2005\n",
    "\n",
    "import scipy.stats as st\n",
    "y = sml[['price1']]\n",
    "plt.figure(1); plt.title('Johnson SU')\n",
    "sns.distplot(y, kde=False, fit=st.johnsonsu)\n",
    "plt.figure(2); plt.title('Normal')\n",
    "sns.distplot(y, kde=False, fit=st.norm)\n",
    "plt.figure(3); plt.title('Log Normal')\n",
    "sns.distplot(y, kde=False, fit=st.lognorm)"
   ]
  },
  {
   "cell_type": "code",
   "execution_count": 19,
   "metadata": {},
   "outputs": [],
   "source": [
    "# The Johnson su distribution probability plot above did a transformation of the normal distribution of the data"
   ]
  },
  {
   "cell_type": "code",
   "execution_count": 20,
   "metadata": {},
   "outputs": [
    {
     "data": {
      "text/plain": [
       "<matplotlib.axes._subplots.AxesSubplot at 0x1a9226907f0>"
      ]
     },
     "execution_count": 20,
     "metadata": {},
     "output_type": "execute_result"
    },
    {
     "data": {
      "image/png": "[encoded data removed]",
      "text/plain": [
       "<Figure size 432x288 with 2 Axes>"
      ]
     },
     "metadata": {
      "needs_background": "light"
     },
     "output_type": "display_data"
    }
   ],
   "source": [
    "# Regression plot\n",
    "fig, ax = plt.subplots(1,2)\n",
    "sns.regplot('price1','price2',sml, ax=ax[0], scatter_kws={'alpha':0.4})\n",
    "sns.regplot('price2','price99',sml,ax=ax[1], scatter_kws={'alpha':0.4})\n"
   ]
  },
  {
   "cell_type": "code",
   "execution_count": 21,
   "metadata": {},
   "outputs": [],
   "source": [
    "##The line of best fit is calculated by minimizing the ordinary least squares error function, that Seaborn module does automatically using the regplot function.\n",
    "#The shaded area around the line represents 95% confidence intervals calculates and plots residuals.\n",
    "# The regplts help to understand and improve the regression model. "
   ]
  },
  {
   "cell_type": "code",
   "execution_count": 22,
   "metadata": {},
   "outputs": [
    {
     "data": {
      "text/plain": [
       "Text(0, 0.5, 'price2 residual')"
      ]
     },
     "execution_count": 22,
     "metadata": {},
     "output_type": "execute_result"
    },
    {
     "data": {
      "image/png": "[encoded data removed]",
      "text/plain": [
       "<Figure size 432x288 with 2 Axes>"
      ]
     },
     "metadata": {
      "needs_background": "light"
     },
     "output_type": "display_data"
    }
   ],
   "source": [
    "# visualizing the residuals by creating residual plots .\n",
    "fig, ax = plt.subplots(1,2)\n",
    "ax[0]= sns.residplot('price1','price2', sml,ax=ax[0], scatter_kws={'alpha':0.4})\n",
    "ax[0].set_ylabel('price1 residual')\n",
    "ax[1]=sns.residplot('price2','price99',sml,ax=ax[1], scatter_kws={'alpha':0.4})\n",
    "ax[1].set_ylabel('price2 residual')"
   ]
  },
  {
   "cell_type": "code",
   "execution_count": 23,
   "metadata": {},
   "outputs": [],
   "source": [
    "# The points in the residual plot represent the difference between the sample (y) and the predicted value (y’). \n",
    "#Residuals that are greater than zero are points that are underestimated by the model and residuals less than zero are points that are overestimated by the model.\n"
   ]
  },
  {
   "cell_type": "code",
   "execution_count": 24,
   "metadata": {},
   "outputs": [
    {
     "name": "stderr",
     "output_type": "stream",
     "text": [
      "C:\\Users\\susie\\Anaconda3\\lib\\site-packages\\scipy\\stats\\stats.py:1416: UserWarning: kurtosistest only valid for n>=20 ... continuing anyway, n=10\n",
      "  \"anyway, n=%i\" % int(n))\n"
     ]
    },
    {
     "data": {
      "text/html": [
       "<table class=\"simpletable\">\n",
       "<caption>OLS Regression Results</caption>\n",
       "<tr>\n",
       "  <th>Dep. Variable:</th>         <td>price2</td>      <th>  R-squared:         </th> <td>   1.000</td> \n",
       "</tr>\n",
       "<tr>\n",
       "  <th>Model:</th>                   <td>OLS</td>       <th>  Adj. R-squared:    </th> <td>   1.000</td> \n",
       "</tr>\n",
       "<tr>\n",
       "  <th>Method:</th>             <td>Least Squares</td>  <th>  F-statistic:       </th> <td>6.664e+04</td>\n",
       "</tr>\n",
       "<tr>\n",
       "  <th>Date:</th>             <td>Thu, 22 Aug 2019</td> <th>  Prob (F-statistic):</th> <td>1.00e-18</td> \n",
       "</tr>\n",
       "<tr>\n",
       "  <th>Time:</th>                 <td>13:03:16</td>     <th>  Log-Likelihood:    </th> <td> -32.332</td> \n",
       "</tr>\n",
       "<tr>\n",
       "  <th>No. Observations:</th>      <td>    10</td>      <th>  AIC:               </th> <td>   66.66</td> \n",
       "</tr>\n",
       "<tr>\n",
       "  <th>Df Residuals:</th>          <td>     9</td>      <th>  BIC:               </th> <td>   66.97</td> \n",
       "</tr>\n",
       "<tr>\n",
       "  <th>Df Model:</th>              <td>     1</td>      <th>                     </th>     <td> </td>    \n",
       "</tr>\n",
       "<tr>\n",
       "  <th>Covariance Type:</th>      <td>nonrobust</td>    <th>                     </th>     <td> </td>    \n",
       "</tr>\n",
       "</table>\n",
       "<table class=\"simpletable\">\n",
       "<tr>\n",
       "     <td></td>       <th>coef</th>     <th>std err</th>      <th>t</th>      <th>P>|t|</th>  <th>[0.025</th>    <th>0.975]</th>  \n",
       "</tr>\n",
       "<tr>\n",
       "  <th>price1</th> <td>    1.0263</td> <td>    0.004</td> <td>  258.147</td> <td> 0.000</td> <td>    1.017</td> <td>    1.035</td>\n",
       "</tr>\n",
       "</table>\n",
       "<table class=\"simpletable\">\n",
       "<tr>\n",
       "  <th>Omnibus:</th>       <td> 0.586</td> <th>  Durbin-Watson:     </th> <td>   1.686</td>\n",
       "</tr>\n",
       "<tr>\n",
       "  <th>Prob(Omnibus):</th> <td> 0.746</td> <th>  Jarque-Bera (JB):  </th> <td>   0.365</td>\n",
       "</tr>\n",
       "<tr>\n",
       "  <th>Skew:</th>          <td> 0.400</td> <th>  Prob(JB):          </th> <td>   0.833</td>\n",
       "</tr>\n",
       "<tr>\n",
       "  <th>Kurtosis:</th>      <td> 2.514</td> <th>  Cond. No.          </th> <td>    1.00</td>\n",
       "</tr>\n",
       "</table><br/><br/>Warnings:<br/>[1] Standard Errors assume that the covariance matrix of the errors is correctly specified."
      ],
      "text/plain": [
       "<class 'statsmodels.iolib.summary.Summary'>\n",
       "\"\"\"\n",
       "                            OLS Regression Results                            \n",
       "==============================================================================\n",
       "Dep. Variable:                 price2   R-squared:                       1.000\n",
       "Model:                            OLS   Adj. R-squared:                  1.000\n",
       "Method:                 Least Squares   F-statistic:                 6.664e+04\n",
       "Date:                Thu, 22 Aug 2019   Prob (F-statistic):           1.00e-18\n",
       "Time:                        13:03:16   Log-Likelihood:                -32.332\n",
       "No. Observations:                  10   AIC:                             66.66\n",
       "Df Residuals:                       9   BIC:                             66.97\n",
       "Df Model:                           1                                         \n",
       "Covariance Type:            nonrobust                                         \n",
       "==============================================================================\n",
       "                 coef    std err          t      P>|t|      [0.025      0.975]\n",
       "------------------------------------------------------------------------------\n",
       "price1         1.0263      0.004    258.147      0.000       1.017       1.035\n",
       "==============================================================================\n",
       "Omnibus:                        0.586   Durbin-Watson:                   1.686\n",
       "Prob(Omnibus):                  0.746   Jarque-Bera (JB):                0.365\n",
       "Skew:                           0.400   Prob(JB):                        0.833\n",
       "Kurtosis:                       2.514   Cond. No.                         1.00\n",
       "==============================================================================\n",
       "\n",
       "Warnings:\n",
       "[1] Standard Errors assume that the covariance matrix of the errors is correctly specified.\n",
       "\"\"\""
      ]
     },
     "execution_count": 24,
     "metadata": {},
     "output_type": "execute_result"
    }
   ],
   "source": [
    "# Next we’ll want to fit a linear regression model. We need to choose variables that we think we’ll be good predictors for the dependent variable.\n",
    "# This can be done by checking the correlation(s) between variables, on what variables are good predictors of y.\n",
    "\n",
    "import statsmodels.api as sm\n",
    "\n",
    "X = sml[\"price1\"]\n",
    "y = sml[\"price2\"]\n",
    "\n",
    "# Note the difference in argument order\n",
    "model = sm.OLS(y, X).fit()\n",
    "predictions = model.predict(X) # make the predictions by the model\n",
    "\n",
    "# Print out the statistics\n",
    "model.summary()"
   ]
  },
  {
   "cell_type": "code",
   "execution_count": 25,
   "metadata": {},
   "outputs": [],
   "source": [
    "# OLS stands for Ordinary Least Squares and the method “Least Squares” means that we’re trying to fit a regression line that\n",
    "# would minimize the square of distance from the regression line."
   ]
  },
  {
   "cell_type": "code",
   "execution_count": 26,
   "metadata": {},
   "outputs": [
    {
     "name": "stderr",
     "output_type": "stream",
     "text": [
      "C:\\Users\\susie\\Anaconda3\\lib\\site-packages\\numpy\\core\\fromnumeric.py:2389: FutureWarning: Method .ptp is deprecated and will be removed in a future version. Use numpy.ptp instead.\n",
      "  return ptp(axis=axis, out=out, **kwargs)\n",
      "C:\\Users\\susie\\Anaconda3\\lib\\site-packages\\scipy\\stats\\stats.py:1416: UserWarning: kurtosistest only valid for n>=20 ... continuing anyway, n=10\n",
      "  \"anyway, n=%i\" % int(n))\n"
     ]
    },
    {
     "data": {
      "text/html": [
       "<table class=\"simpletable\">\n",
       "<caption>OLS Regression Results</caption>\n",
       "<tr>\n",
       "  <th>Dep. Variable:</th>         <td>price2</td>      <th>  R-squared:         </th> <td>   0.991</td>\n",
       "</tr>\n",
       "<tr>\n",
       "  <th>Model:</th>                   <td>OLS</td>       <th>  Adj. R-squared:    </th> <td>   0.990</td>\n",
       "</tr>\n",
       "<tr>\n",
       "  <th>Method:</th>             <td>Least Squares</td>  <th>  F-statistic:       </th> <td>   922.6</td>\n",
       "</tr>\n",
       "<tr>\n",
       "  <th>Date:</th>             <td>Thu, 22 Aug 2019</td> <th>  Prob (F-statistic):</th> <td>1.50e-09</td>\n",
       "</tr>\n",
       "<tr>\n",
       "  <th>Time:</th>                 <td>13:03:16</td>     <th>  Log-Likelihood:    </th> <td> -31.413</td>\n",
       "</tr>\n",
       "<tr>\n",
       "  <th>No. Observations:</th>      <td>    10</td>      <th>  AIC:               </th> <td>   66.83</td>\n",
       "</tr>\n",
       "<tr>\n",
       "  <th>Df Residuals:</th>          <td>     8</td>      <th>  BIC:               </th> <td>   67.43</td>\n",
       "</tr>\n",
       "<tr>\n",
       "  <th>Df Model:</th>              <td>     1</td>      <th>                     </th>     <td> </td>   \n",
       "</tr>\n",
       "<tr>\n",
       "  <th>Covariance Type:</th>      <td>nonrobust</td>    <th>                     </th>     <td> </td>   \n",
       "</tr>\n",
       "</table>\n",
       "<table class=\"simpletable\">\n",
       "<tr>\n",
       "     <td></td>       <th>coef</th>     <th>std err</th>      <th>t</th>      <th>P>|t|</th>  <th>[0.025</th>    <th>0.975]</th>  \n",
       "</tr>\n",
       "<tr>\n",
       "  <th>const</th>  <td>  -23.0439</td> <td>   18.138</td> <td>   -1.270</td> <td> 0.240</td> <td>  -64.870</td> <td>   18.782</td>\n",
       "</tr>\n",
       "<tr>\n",
       "  <th>price1</th> <td>    1.0709</td> <td>    0.035</td> <td>   30.375</td> <td> 0.000</td> <td>    0.990</td> <td>    1.152</td>\n",
       "</tr>\n",
       "</table>\n",
       "<table class=\"simpletable\">\n",
       "<tr>\n",
       "  <th>Omnibus:</th>       <td> 1.276</td> <th>  Durbin-Watson:     </th> <td>   2.080</td>\n",
       "</tr>\n",
       "<tr>\n",
       "  <th>Prob(Omnibus):</th> <td> 0.528</td> <th>  Jarque-Bera (JB):  </th> <td>   0.766</td>\n",
       "</tr>\n",
       "<tr>\n",
       "  <th>Skew:</th>          <td> 0.280</td> <th>  Prob(JB):          </th> <td>   0.682</td>\n",
       "</tr>\n",
       "<tr>\n",
       "  <th>Kurtosis:</th>      <td> 1.765</td> <th>  Cond. No.          </th> <td>4.72e+03</td>\n",
       "</tr>\n",
       "</table><br/><br/>Warnings:<br/>[1] Standard Errors assume that the covariance matrix of the errors is correctly specified.<br/>[2] The condition number is large, 4.72e+03. This might indicate that there are<br/>strong multicollinearity or other numerical problems."
      ],
      "text/plain": [
       "<class 'statsmodels.iolib.summary.Summary'>\n",
       "\"\"\"\n",
       "                            OLS Regression Results                            \n",
       "==============================================================================\n",
       "Dep. Variable:                 price2   R-squared:                       0.991\n",
       "Model:                            OLS   Adj. R-squared:                  0.990\n",
       "Method:                 Least Squares   F-statistic:                     922.6\n",
       "Date:                Thu, 22 Aug 2019   Prob (F-statistic):           1.50e-09\n",
       "Time:                        13:03:16   Log-Likelihood:                -31.413\n",
       "No. Observations:                  10   AIC:                             66.83\n",
       "Df Residuals:                       8   BIC:                             67.43\n",
       "Df Model:                           1                                         \n",
       "Covariance Type:            nonrobust                                         \n",
       "==============================================================================\n",
       "                 coef    std err          t      P>|t|      [0.025      0.975]\n",
       "------------------------------------------------------------------------------\n",
       "const        -23.0439     18.138     -1.270      0.240     -64.870      18.782\n",
       "price1         1.0709      0.035     30.375      0.000       0.990       1.152\n",
       "==============================================================================\n",
       "Omnibus:                        1.276   Durbin-Watson:                   2.080\n",
       "Prob(Omnibus):                  0.528   Jarque-Bera (JB):                0.766\n",
       "Skew:                           0.280   Prob(JB):                        0.682\n",
       "Kurtosis:                       1.765   Cond. No.                     4.72e+03\n",
       "==============================================================================\n",
       "\n",
       "Warnings:\n",
       "[1] Standard Errors assume that the covariance matrix of the errors is correctly specified.\n",
       "[2] The condition number is large, 4.72e+03. This might indicate that there are\n",
       "strong multicollinearity or other numerical problems.\n",
       "\"\"\""
      ]
     },
     "execution_count": 26,
     "metadata": {},
     "output_type": "execute_result"
    }
   ],
   "source": [
    "# # Next we’ll want to fit a linear regression model by adding a constant. \n",
    "X = sml[\"price1\"] ## X usually means our input variables (or independent variables)\n",
    "y = sml[\"price2\"] ## Y usually means our output/dependent variable\n",
    "X = sm.add_constant(X) ## let's add an intercept (beta_0) to our model\n",
    "\n",
    "# Note the difference in argument order\n",
    "model = sm.OLS(y, X).fit() ## sm.OLS(output, input)\n",
    "predictions = model.predict(X)\n",
    "\n",
    "# Print out the statistics\n",
    "model.summary()"
   ]
  },
  {
   "cell_type": "code",
   "execution_count": 27,
   "metadata": {},
   "outputs": [],
   "source": [
    "#  With the constant term the coefficients are different. Without a constant we are forcing our model to go through the origin.\n"
   ]
  },
  {
   "cell_type": "code",
   "execution_count": 37,
   "metadata": {},
   "outputs": [],
   "source": [
    "def method_name():\n",
    "    from sklearn.linear_model import Linear_Regression\n",
    "    return Linear_Regression\n",
    "\n",
    "def method_name():\n",
    "    from sklearn.metrics import mean_sqared_error\n",
    "    return mean_sqared_error\n",
    "\n"
   ]
  },
  {
   "cell_type": "code",
   "execution_count": 29,
   "metadata": {},
   "outputs": [
    {
     "name": "stdout",
     "output_type": "stream",
     "text": [
      "Requirement already satisfied: scikit-learn in c:\\users\\susie\\anaconda3\\lib\\site-packages (0.20.3)\n",
      "Requirement already satisfied: scipy>=0.13.3 in c:\\users\\susie\\anaconda3\\lib\\site-packages (from scikit-learn) (1.2.1)\n",
      "Requirement already satisfied: numpy>=1.8.2 in c:\\users\\susie\\anaconda3\\lib\\site-packages (from scikit-learn) (1.16.2)\n",
      "Note: you may need to restart the kernel to use updated packages.\n"
     ]
    }
   ],
   "source": [
    "pip install scikit-learn"
   ]
  },
  {
   "cell_type": "code",
   "execution_count": 38,
   "metadata": {},
   "outputs": [],
   "source": [
    "def method_name():\n",
    "    from sklearn.linear_model import Linear_Regression\n",
    "    return Linear_Regression\n",
    "def method_name():\n",
    "    from sklearn.metrics import mean_sqared_error\n",
    "    return mean_sqared_error\n",
    "\n",
    "def get_mse(sml, price1, price2):\n",
    "    y=sml['price2'].values\n",
    "    x=sml['price1'].values.reshape(-1,1)\n",
    "    print('{}~{}'.format(price1,price2))\n",
    "    \n",
    "    lm = LinearRegression()\n",
    "    lm.fit(x,y)\n",
    "    msg= 'model:y={:.3f} + {:.3f}x'\\\n",
    "    .format(lm.intercept_,lm.coef_[0])\n",
    "    print(msg)\n",
    "    \n",
    "    y_pred = lm.pred(x)\n",
    "    error = mean_square_error(y, y_pred)\n",
    "    print= ('mse = {:.2f}'.format(error))\n",
    "    print()\n",
    "    "
   ]
  },
  {
   "cell_type": "code",
   "execution_count": 39,
   "metadata": {},
   "outputs": [
    {
     "ename": "TypeError",
     "evalue": "get_mse() missing 1 required positional argument: 'price2'",
     "output_type": "error",
     "traceback": [
      "\u001b[1;31m---------------------------------------------------------------------------\u001b[0m",
      "\u001b[1;31mTypeError\u001b[0m                                 Traceback (most recent call last)",
      "\u001b[1;32m<ipython-input-39-48bed08e115e>\u001b[0m in \u001b[0;36m<module>\u001b[1;34m\u001b[0m\n\u001b[1;32m----> 1\u001b[1;33m \u001b[0mget_mse\u001b[0m\u001b[1;33m(\u001b[0m\u001b[0msml\u001b[0m\u001b[1;33m,\u001b[0m\u001b[1;34m'price1'\u001b[0m\u001b[1;33m)\u001b[0m\u001b[1;33m\u001b[0m\u001b[1;33m\u001b[0m\u001b[0m\n\u001b[0m\u001b[0;32m      2\u001b[0m \u001b[0mget_mse\u001b[0m\u001b[1;33m(\u001b[0m\u001b[0msml\u001b[0m\u001b[1;33m,\u001b[0m\u001b[1;34m'price2'\u001b[0m\u001b[1;33m)\u001b[0m\u001b[1;33m\u001b[0m\u001b[1;33m\u001b[0m\u001b[0m\n",
      "\u001b[1;31mTypeError\u001b[0m: get_mse() missing 1 required positional argument: 'price2'"
     ]
    }
   ],
   "source": [
    "get_mse(sml,'price1')\n",
    "get_mse(sml,'price2')"
   ]
  },
  {
   "cell_type": "code",
   "execution_count": 87,
   "metadata": {},
   "outputs": [
    {
     "ename": "KeyError",
     "evalue": "'data'",
     "output_type": "error",
     "traceback": [
      "\u001b[1;31m---------------------------------------------------------------------------\u001b[0m",
      "\u001b[1;31mKeyError\u001b[0m                                  Traceback (most recent call last)",
      "\u001b[1;32m~\\Anaconda3\\lib\\site-packages\\pandas\\core\\indexes\\base.py\u001b[0m in \u001b[0;36mget_loc\u001b[1;34m(self, key, method, tolerance)\u001b[0m\n\u001b[0;32m   2656\u001b[0m             \u001b[1;32mtry\u001b[0m\u001b[1;33m:\u001b[0m\u001b[1;33m\u001b[0m\u001b[1;33m\u001b[0m\u001b[0m\n\u001b[1;32m-> 2657\u001b[1;33m                 \u001b[1;32mreturn\u001b[0m \u001b[0mself\u001b[0m\u001b[1;33m.\u001b[0m\u001b[0m_engine\u001b[0m\u001b[1;33m.\u001b[0m\u001b[0mget_loc\u001b[0m\u001b[1;33m(\u001b[0m\u001b[0mkey\u001b[0m\u001b[1;33m)\u001b[0m\u001b[1;33m\u001b[0m\u001b[1;33m\u001b[0m\u001b[0m\n\u001b[0m\u001b[0;32m   2658\u001b[0m             \u001b[1;32mexcept\u001b[0m \u001b[0mKeyError\u001b[0m\u001b[1;33m:\u001b[0m\u001b[1;33m\u001b[0m\u001b[1;33m\u001b[0m\u001b[0m\n",
      "\u001b[1;32mpandas/_libs/index.pyx\u001b[0m in \u001b[0;36mpandas._libs.index.IndexEngine.get_loc\u001b[1;34m()\u001b[0m\n",
      "\u001b[1;32mpandas/_libs/index.pyx\u001b[0m in \u001b[0;36mpandas._libs.index.IndexEngine.get_loc\u001b[1;34m()\u001b[0m\n",
      "\u001b[1;32mpandas/_libs/hashtable_class_helper.pxi\u001b[0m in \u001b[0;36mpandas._libs.hashtable.PyObjectHashTable.get_item\u001b[1;34m()\u001b[0m\n",
      "\u001b[1;32mpandas/_libs/hashtable_class_helper.pxi\u001b[0m in \u001b[0;36mpandas._libs.hashtable.PyObjectHashTable.get_item\u001b[1;34m()\u001b[0m\n",
      "\u001b[1;31mKeyError\u001b[0m: 'data'",
      "\nDuring handling of the above exception, another exception occurred:\n",
      "\u001b[1;31mKeyError\u001b[0m                                  Traceback (most recent call last)",
      "\u001b[1;32m<ipython-input-87-f8d225081c59>\u001b[0m in \u001b[0;36m<module>\u001b[1;34m\u001b[0m\n\u001b[1;32m----> 1\u001b[1;33m \u001b[0msml\u001b[0m\u001b[1;33m[\u001b[0m\u001b[1;34m'data'\u001b[0m\u001b[1;33m]\u001b[0m\u001b[1;33m\u001b[0m\u001b[1;33m\u001b[0m\u001b[0m\n\u001b[0m",
      "\u001b[1;32m~\\Anaconda3\\lib\\site-packages\\pandas\\core\\frame.py\u001b[0m in \u001b[0;36m__getitem__\u001b[1;34m(self, key)\u001b[0m\n\u001b[0;32m   2925\u001b[0m             \u001b[1;32mif\u001b[0m \u001b[0mself\u001b[0m\u001b[1;33m.\u001b[0m\u001b[0mcolumns\u001b[0m\u001b[1;33m.\u001b[0m\u001b[0mnlevels\u001b[0m \u001b[1;33m>\u001b[0m \u001b[1;36m1\u001b[0m\u001b[1;33m:\u001b[0m\u001b[1;33m\u001b[0m\u001b[1;33m\u001b[0m\u001b[0m\n\u001b[0;32m   2926\u001b[0m                 \u001b[1;32mreturn\u001b[0m \u001b[0mself\u001b[0m\u001b[1;33m.\u001b[0m\u001b[0m_getitem_multilevel\u001b[0m\u001b[1;33m(\u001b[0m\u001b[0mkey\u001b[0m\u001b[1;33m)\u001b[0m\u001b[1;33m\u001b[0m\u001b[1;33m\u001b[0m\u001b[0m\n\u001b[1;32m-> 2927\u001b[1;33m             \u001b[0mindexer\u001b[0m \u001b[1;33m=\u001b[0m \u001b[0mself\u001b[0m\u001b[1;33m.\u001b[0m\u001b[0mcolumns\u001b[0m\u001b[1;33m.\u001b[0m\u001b[0mget_loc\u001b[0m\u001b[1;33m(\u001b[0m\u001b[0mkey\u001b[0m\u001b[1;33m)\u001b[0m\u001b[1;33m\u001b[0m\u001b[1;33m\u001b[0m\u001b[0m\n\u001b[0m\u001b[0;32m   2928\u001b[0m             \u001b[1;32mif\u001b[0m \u001b[0mis_integer\u001b[0m\u001b[1;33m(\u001b[0m\u001b[0mindexer\u001b[0m\u001b[1;33m)\u001b[0m\u001b[1;33m:\u001b[0m\u001b[1;33m\u001b[0m\u001b[1;33m\u001b[0m\u001b[0m\n\u001b[0;32m   2929\u001b[0m                 \u001b[0mindexer\u001b[0m \u001b[1;33m=\u001b[0m \u001b[1;33m[\u001b[0m\u001b[0mindexer\u001b[0m\u001b[1;33m]\u001b[0m\u001b[1;33m\u001b[0m\u001b[1;33m\u001b[0m\u001b[0m\n",
      "\u001b[1;32m~\\Anaconda3\\lib\\site-packages\\pandas\\core\\indexes\\base.py\u001b[0m in \u001b[0;36mget_loc\u001b[1;34m(self, key, method, tolerance)\u001b[0m\n\u001b[0;32m   2657\u001b[0m                 \u001b[1;32mreturn\u001b[0m \u001b[0mself\u001b[0m\u001b[1;33m.\u001b[0m\u001b[0m_engine\u001b[0m\u001b[1;33m.\u001b[0m\u001b[0mget_loc\u001b[0m\u001b[1;33m(\u001b[0m\u001b[0mkey\u001b[0m\u001b[1;33m)\u001b[0m\u001b[1;33m\u001b[0m\u001b[1;33m\u001b[0m\u001b[0m\n\u001b[0;32m   2658\u001b[0m             \u001b[1;32mexcept\u001b[0m \u001b[0mKeyError\u001b[0m\u001b[1;33m:\u001b[0m\u001b[1;33m\u001b[0m\u001b[1;33m\u001b[0m\u001b[0m\n\u001b[1;32m-> 2659\u001b[1;33m                 \u001b[1;32mreturn\u001b[0m \u001b[0mself\u001b[0m\u001b[1;33m.\u001b[0m\u001b[0m_engine\u001b[0m\u001b[1;33m.\u001b[0m\u001b[0mget_loc\u001b[0m\u001b[1;33m(\u001b[0m\u001b[0mself\u001b[0m\u001b[1;33m.\u001b[0m\u001b[0m_maybe_cast_indexer\u001b[0m\u001b[1;33m(\u001b[0m\u001b[0mkey\u001b[0m\u001b[1;33m)\u001b[0m\u001b[1;33m)\u001b[0m\u001b[1;33m\u001b[0m\u001b[1;33m\u001b[0m\u001b[0m\n\u001b[0m\u001b[0;32m   2660\u001b[0m         \u001b[0mindexer\u001b[0m \u001b[1;33m=\u001b[0m \u001b[0mself\u001b[0m\u001b[1;33m.\u001b[0m\u001b[0mget_indexer\u001b[0m\u001b[1;33m(\u001b[0m\u001b[1;33m[\u001b[0m\u001b[0mkey\u001b[0m\u001b[1;33m]\u001b[0m\u001b[1;33m,\u001b[0m \u001b[0mmethod\u001b[0m\u001b[1;33m=\u001b[0m\u001b[0mmethod\u001b[0m\u001b[1;33m,\u001b[0m \u001b[0mtolerance\u001b[0m\u001b[1;33m=\u001b[0m\u001b[0mtolerance\u001b[0m\u001b[1;33m)\u001b[0m\u001b[1;33m\u001b[0m\u001b[1;33m\u001b[0m\u001b[0m\n\u001b[0;32m   2661\u001b[0m         \u001b[1;32mif\u001b[0m \u001b[0mindexer\u001b[0m\u001b[1;33m.\u001b[0m\u001b[0mndim\u001b[0m \u001b[1;33m>\u001b[0m \u001b[1;36m1\u001b[0m \u001b[1;32mor\u001b[0m \u001b[0mindexer\u001b[0m\u001b[1;33m.\u001b[0m\u001b[0msize\u001b[0m \u001b[1;33m>\u001b[0m \u001b[1;36m1\u001b[0m\u001b[1;33m:\u001b[0m\u001b[1;33m\u001b[0m\u001b[1;33m\u001b[0m\u001b[0m\n",
      "\u001b[1;32mpandas/_libs/index.pyx\u001b[0m in \u001b[0;36mpandas._libs.index.IndexEngine.get_loc\u001b[1;34m()\u001b[0m\n",
      "\u001b[1;32mpandas/_libs/index.pyx\u001b[0m in \u001b[0;36mpandas._libs.index.IndexEngine.get_loc\u001b[1;34m()\u001b[0m\n",
      "\u001b[1;32mpandas/_libs/hashtable_class_helper.pxi\u001b[0m in \u001b[0;36mpandas._libs.hashtable.PyObjectHashTable.get_item\u001b[1;34m()\u001b[0m\n",
      "\u001b[1;32mpandas/_libs/hashtable_class_helper.pxi\u001b[0m in \u001b[0;36mpandas._libs.hashtable.PyObjectHashTable.get_item\u001b[1;34m()\u001b[0m\n",
      "\u001b[1;31mKeyError\u001b[0m: 'data'"
     ]
    }
   ],
   "source": [
    "sml['data']"
   ]
  },
  {
   "cell_type": "code",
   "execution_count": 40,
   "metadata": {},
   "outputs": [
    {
     "ename": "NameError",
     "evalue": "name 'price1' is not defined",
     "output_type": "error",
     "traceback": [
      "\u001b[1;31m---------------------------------------------------------------------------\u001b[0m",
      "\u001b[1;31mNameError\u001b[0m                                 Traceback (most recent call last)",
      "\u001b[1;32m<ipython-input-40-2766cf5239d9>\u001b[0m in \u001b[0;36m<module>\u001b[1;34m\u001b[0m\n\u001b[0;32m      7\u001b[0m     \u001b[1;32mreturn\u001b[0m \u001b[0mcross_validate\u001b[0m\u001b[1;33m\u001b[0m\u001b[1;33m\u001b[0m\u001b[0m\n\u001b[0;32m      8\u001b[0m \u001b[1;33m\u001b[0m\u001b[0m\n\u001b[1;32m----> 9\u001b[1;33m \u001b[0mprice1\u001b[0m \u001b[1;33m=\u001b[0m \u001b[0msml\u001b[0m\u001b[1;33m.\u001b[0m\u001b[0miloc\u001b[0m\u001b[1;33m[\u001b[0m\u001b[0mprice1\u001b[0m\u001b[1;33m:\u001b[0m\u001b[1;33m,\u001b[0m\u001b[1;36m1\u001b[0m\u001b[1;33m]\u001b[0m\u001b[1;33m.\u001b[0m\u001b[0mvalues\u001b[0m\u001b[1;33m\u001b[0m\u001b[1;33m\u001b[0m\u001b[0m\n\u001b[0m\u001b[0;32m     10\u001b[0m \u001b[0mprice2\u001b[0m \u001b[1;33m=\u001b[0m \u001b[0msml\u001b[0m\u001b[1;33m.\u001b[0m\u001b[0miloc\u001b[0m\u001b[1;33m[\u001b[0m\u001b[0mprice2\u001b[0m\u001b[1;33m:\u001b[0m\u001b[1;33m,\u001b[0m\u001b[1;36m2\u001b[0m\u001b[1;33m]\u001b[0m\u001b[1;33m.\u001b[0m\u001b[0mvalues\u001b[0m\u001b[1;33m\u001b[0m\u001b[1;33m\u001b[0m\u001b[0m\n\u001b[0;32m     11\u001b[0m \u001b[1;33m\u001b[0m\u001b[0m\n",
      "\u001b[1;31mNameError\u001b[0m: name 'price1' is not defined"
     ]
    }
   ],
   "source": [
    "# Splitting the dataset into the Training set and Test set\n",
    "from sklearn.model_selection import cross_validate\n",
    "from sklearn.model_selection import train_test_split\n",
    "\n",
    "def method_name():\n",
    "    from sklearn.model_selection import cross_validate\n",
    "    return cross_validate\n",
    "\n",
    "price1 = sml.iloc[price1:,1].values\n",
    "price2 = sml.iloc[price2:,2].values\n",
    "\n",
    "\n",
    "\n",
    "X_train, X_test, y_train, y_test = train_test_split(price2, price, test_size=0.2, random_state = 42)\n",
    "y_train_log = np.log(y_train)\n",
    "y_test_log = np.log(y_test)"
   ]
  },
  {
   "cell_type": "code",
   "execution_count": 41,
   "metadata": {},
   "outputs": [],
   "source": [
    "import pandas as pd\n",
    "import matplotlib as pt\n",
    "\n",
    "y=sml['price2'].values\n",
    "x=sml['price1'].values.reshape(-1,1)\n",
    "\n",
    "#Spliting the dataset into Training set and Test Set\n",
    "def method_name(): \n",
    "    from sklearn.cross_validation import train_test_split\n",
    "    return train_test_split\n",
    "\n",
    "x_train, x_test, y_train, y_test = train_test_split(x, y, test_size= 0.2, random_state=0)\n",
    "\n",
    "#linnear Regression\n",
    "\n",
    "from sklearn.linear_model import LinearRegression\n",
    "\n",
    "regressor = LinearRegression()\n",
    "regressor.fit(x_train,y_train)\n",
    "\n",
    "y_pred = regressor.predict(x_test)"
   ]
  },
  {
   "cell_type": "code",
   "execution_count": 42,
   "metadata": {},
   "outputs": [
    {
     "ename": "NameError",
     "evalue": "name 'price2' is not defined",
     "output_type": "error",
     "traceback": [
      "\u001b[1;31m---------------------------------------------------------------------------\u001b[0m",
      "\u001b[1;31mNameError\u001b[0m                                 Traceback (most recent call last)",
      "\u001b[1;32m<ipython-input-42-6ca0d75c2546>\u001b[0m in \u001b[0;36m<module>\u001b[1;34m\u001b[0m\n\u001b[0;32m      2\u001b[0m \u001b[1;32mimport\u001b[0m \u001b[0mmatplotlib\u001b[0m \u001b[1;32mas\u001b[0m \u001b[0mpt\u001b[0m\u001b[1;33m\u001b[0m\u001b[1;33m\u001b[0m\u001b[0m\n\u001b[0;32m      3\u001b[0m \u001b[1;33m\u001b[0m\u001b[0m\n\u001b[1;32m----> 4\u001b[1;33m \u001b[0my\u001b[0m\u001b[1;33m=\u001b[0m\u001b[0msml\u001b[0m\u001b[1;33m[\u001b[0m\u001b[0mprice2\u001b[0m\u001b[1;33m]\u001b[0m\u001b[1;33m.\u001b[0m\u001b[0mvalues\u001b[0m\u001b[1;33m\u001b[0m\u001b[1;33m\u001b[0m\u001b[0m\n\u001b[0m\u001b[0;32m      5\u001b[0m \u001b[0mx\u001b[0m\u001b[1;33m=\u001b[0m\u001b[0msml\u001b[0m\u001b[1;33m[\u001b[0m\u001b[0mprice1\u001b[0m\u001b[1;33m]\u001b[0m\u001b[1;33m.\u001b[0m\u001b[0mvalues\u001b[0m\u001b[1;33m.\u001b[0m\u001b[0mreshape\u001b[0m\u001b[1;33m(\u001b[0m\u001b[1;33m-\u001b[0m\u001b[1;36m1\u001b[0m\u001b[1;33m,\u001b[0m\u001b[1;36m1\u001b[0m\u001b[1;33m)\u001b[0m\u001b[1;33m\u001b[0m\u001b[1;33m\u001b[0m\u001b[0m\n\u001b[0;32m      6\u001b[0m \u001b[1;33m\u001b[0m\u001b[0m\n",
      "\u001b[1;31mNameError\u001b[0m: name 'price2' is not defined"
     ]
    }
   ],
   "source": [
    "import pandas as pd\n",
    "import matplotlib as pt\n",
    "\n",
    "y=sml[price2].values\n",
    "x=sml[price1].values.reshape(-1,1)\n",
    "\n",
    "x = sml.iloc[:, 5].values\n",
    "y = sml.iloc[:, 12].values\n",
    "\n",
    "#Spliting the dataset into Training set and Test Set\n",
    "def method_name(): \n",
    "    from sklearn.cross_validation import train_test_split\n",
    "    return train_test_split\n",
    "\n",
    "x_train, x_test, y_train, y_test = train_test_split(x, y, test_size= 0.2, random_state=0)\n",
    "\n",
    "#linnear Regression\n",
    "\n",
    "from sklearn.linear_model import LinearRegression\n",
    "\n",
    "regressor = LinearRegression()\n",
    "regressor.fit(x_train,y_train)\n",
    "\n",
    "y_pred = regressor.predict(x_test)"
   ]
  },
  {
   "cell_type": "code",
   "execution_count": 43,
   "metadata": {},
   "outputs": [],
   "source": [
    "from sklearn.ensemble import RandomForestRegressor\n",
    "reg_ran = RandomForestRegressor(n_estimators = 10, random_state = 0)"
   ]
  },
  {
   "cell_type": "code",
   "execution_count": 44,
   "metadata": {},
   "outputs": [
    {
     "ename": "SyntaxError",
     "evalue": "invalid syntax (<ipython-input-44-5d3a4d6640a1>, line 12)",
     "output_type": "error",
     "traceback": [
      "\u001b[1;36m  File \u001b[1;32m\"<ipython-input-44-5d3a4d6640a1>\"\u001b[1;36m, line \u001b[1;32m12\u001b[0m\n\u001b[1;33m    grid_search = grid_search.fit(x_train, y_train)\u001b[0m\n\u001b[1;37m              ^\u001b[0m\n\u001b[1;31mSyntaxError\u001b[0m\u001b[1;31m:\u001b[0m invalid syntax\n"
     ]
    }
   ],
   "source": [
    "#Using GridSearchCV to find the optimimal parameter\n",
    "def method_name():\n",
    "    from sklearn.model_selection import GridSearchCV\n",
    "    return GridSearchCV\n",
    "\n",
    "parameters = [{'n_estimators': [10, 100, 1000], 'max_depth': [10,100,1000]}]\n",
    "grid_search = GridSearchCV(estimator = reg_ran,\n",
    "                           param_grid = parameters,\n",
    "                           scoring = 'neg_mean_squared_log_error',\n",
    "                           cv = 3,\n",
    "                           n_jobs = (-3,3)\n",
    "grid_search = grid_search.fit(x_train, y_train)"
   ]
  },
  {
   "cell_type": "code",
   "execution_count": 45,
   "metadata": {},
   "outputs": [],
   "source": [
    "# Import 'r2_score'\n",
    "\n",
    "from sklearn.metrics import r2_score\n",
    "\n",
    "def performance_metric(price2, price1):\n",
    "    \"\"\" Calculates and returns the performance score between \n",
    "        true (y_true) and predicted (y_predict) values based on the metric chosen. \"\"\"\n",
    "    \n",
    "    score = r2_score(price2, price1)\n",
    "    \n",
    "    # Return the score\n",
    "    return score\n"
   ]
  },
  {
   "cell_type": "code",
   "execution_count": 46,
   "metadata": {},
   "outputs": [],
   "source": [
    "from sklearn.metrics import r2_score\n",
    "\n",
    "def performance_metric(y_true, y_predict):\n",
    "    \"\"\" Calculates and returns the performance score between \n",
    "        true and predicted values based on the metric chosen. \"\"\"\n",
    "    \n",
    "    score = r2_score(y_true, y_predict)\n",
    "    return score"
   ]
  },
  {
   "cell_type": "code",
   "execution_count": 47,
   "metadata": {},
   "outputs": [
    {
     "data": {
      "text/html": [
       "<div id=\"glowscript\" class=\"glowscript\"></div>"
      ],
      "text/plain": [
       "<IPython.core.display.HTML object>"
      ]
     },
     "metadata": {},
     "output_type": "display_data"
    },
    {
     "data": {
      "application/javascript": [
       "if (typeof Jupyter !== \"undefined\") { window.__context = { glowscript_container: $(\"#glowscript\").removeAttr(\"id\")};}else{ element.textContent = ' ';}"
      ],
      "text/plain": [
       "<IPython.core.display.Javascript object>"
      ]
     },
     "metadata": {},
     "output_type": "display_data"
    }
   ],
   "source": [
    "# Import libraries necessary for this project\n",
    "import numpy as np\n",
    "import pandas as pd\n",
    "from sklearn.svm import SVC\n",
    "from sklearn.model_selection import learning_curve\n",
    "from sklearn.model_selection import ShuffleSplit\n",
    "from sklearn.model_selection import validation_curve\n",
    "from sklearn.datasets import load_iris\n",
    "from sklearn.linear_model import Ridge\n",
    "# Import supplementary visualizations code visuals.py\n",
    "import vpython as vs\n",
    "# Pretty display for notebooks\n",
    "%matplotlib inline\n",
    "\n",
    "\n",
    "price1 = sml['price1']\n",
    "price2 = sml['price2']"
   ]
  },
  {
   "cell_type": "code",
   "execution_count": 48,
   "metadata": {},
   "outputs": [
    {
     "name": "stdout",
     "output_type": "stream",
     "text": [
      "Training and testing split was successful.\n"
     ]
    }
   ],
   "source": [
    "# Import 'train_test_split'\n",
    "from sklearn.model_selection import train_test_split\n",
    "\n",
    "# Shuffle and split the data into training and testing subsets\n",
    "X_train, X_test, y_train, y_test = train_test_split(price2, price1, test_size=0.2, random_state = 42)\n",
    "\n",
    "# Success\n",
    "print(\"Training and testing split was successful.\")"
   ]
  },
  {
   "cell_type": "code",
   "execution_count": 49,
   "metadata": {},
   "outputs": [],
   "source": [
    "from vpython import *"
   ]
  },
  {
   "cell_type": "code",
   "execution_count": 50,
   "metadata": {},
   "outputs": [
    {
     "ename": "AttributeError",
     "evalue": "module 'vpython' has no attribute 'ModelLearning'",
     "output_type": "error",
     "traceback": [
      "\u001b[1;31m---------------------------------------------------------------------------\u001b[0m",
      "\u001b[1;31mAttributeError\u001b[0m                            Traceback (most recent call last)",
      "\u001b[1;32m<ipython-input-50-ceb2fdcc1553>\u001b[0m in \u001b[0;36m<module>\u001b[1;34m\u001b[0m\n\u001b[0;32m      1\u001b[0m \u001b[1;31m# Produce learning curves for varying training set sizes and maximum depths\u001b[0m\u001b[1;33m\u001b[0m\u001b[1;33m\u001b[0m\u001b[1;33m\u001b[0m\u001b[0m\n\u001b[1;32m----> 2\u001b[1;33m \u001b[0mvs\u001b[0m\u001b[1;33m.\u001b[0m\u001b[0mModelLearning\u001b[0m\u001b[1;33m(\u001b[0m\u001b[0mprice2\u001b[0m\u001b[1;33m,\u001b[0m \u001b[0mprice1\u001b[0m\u001b[1;33m)\u001b[0m\u001b[1;33m\u001b[0m\u001b[1;33m\u001b[0m\u001b[0m\n\u001b[0m",
      "\u001b[1;31mAttributeError\u001b[0m: module 'vpython' has no attribute 'ModelLearning'"
     ]
    }
   ],
   "source": [
    "# Produce learning curves for varying training set sizes and maximum depths\n",
    "vs.ModelLearning(price2, price1)"
   ]
  },
  {
   "cell_type": "code",
   "execution_count": 51,
   "metadata": {},
   "outputs": [
    {
     "ename": "SyntaxError",
     "evalue": "invalid syntax (<ipython-input-51-9d8aa4178111>, line 9)",
     "output_type": "error",
     "traceback": [
      "\u001b[1;36m  File \u001b[1;32m\"<ipython-input-51-9d8aa4178111>\"\u001b[1;36m, line \u001b[1;32m9\u001b[0m\n\u001b[1;33m    clf = svm.SVC(kernel='linear', C=1 probability=True).fit(X_train, y_train)\u001b[0m\n\u001b[1;37m                                                 ^\u001b[0m\n\u001b[1;31mSyntaxError\u001b[0m\u001b[1;31m:\u001b[0m invalid syntax\n"
     ]
    }
   ],
   "source": [
    "from sklearn.model_selection import cross_validate\n",
    "from sklearn import datasets\n",
    "from sklearn import svm\n",
    "\n",
    "iris = (price2, price1)\n",
    "\n",
    "\n",
    "\n",
    "clf = svm.SVC(kernel='linear', C=1 probability=True).fit(X_train, y_train)\n",
    "\n",
    "# We give cross_val_score a model, the entire data set and its \"real\" values, and the number of folds:\n",
    "scores = cross_validate.cross_val_score(clf, iris.price2, iris.price1, cv=5)\n",
    "\n",
    "\n",
    "\n",
    "# Print the accuracy for each fold:\n",
    "print ('Accuracies of 5 folds:'), scores\n",
    "\n",
    "# And the mean accuracy of all 5 folds:\n",
    "print ('Mean accuracy of 5 folds: '), scores.mean()"
   ]
  },
  {
   "cell_type": "code",
   "execution_count": 52,
   "metadata": {},
   "outputs": [
    {
     "name": "stdout",
     "output_type": "stream",
     "text": [
      "Model Accuracy: -999.3756503642039\n"
     ]
    }
   ],
   "source": [
    "from sklearn.dummy import DummyRegressor\n",
    "from sklearn.metrics import mean_absolute_error\n",
    "from sklearn.metrics import r2_score\n",
    "from sklearn.model_selection import train_test_split\n",
    "y = price1\n",
    "X = price2\n",
    "X_train,X_test,y_train,y_test = train_test_split(X,y,test_size=0.2,random_state=100)\n",
    "dummy_median = DummyRegressor(strategy='mean')\n",
    "dummy_regressor = dummy_median.fit(X_train,y_train)\n",
    "dummy_predicts = dummy_regressor.predict(X_test)\n",
    "print(\"Model Accuracy:\", dummy_regressor.score(X_test,y_test)*100)"
   ]
  },
  {
   "cell_type": "code",
   "execution_count": 53,
   "metadata": {},
   "outputs": [
    {
     "ename": "SyntaxError",
     "evalue": "positional argument follows keyword argument (<ipython-input-53-2412c8a40204>, line 18)",
     "output_type": "error",
     "traceback": [
      "\u001b[1;36m  File \u001b[1;32m\"<ipython-input-53-2412c8a40204>\"\u001b[1;36m, line \u001b[1;32m18\u001b[0m\n\u001b[1;33m    fig, axes = plt.subplots(ncols=-1,1, figsize=(10, 4))\u001b[0m\n\u001b[1;37m                                     ^\u001b[0m\n\u001b[1;31mSyntaxError\u001b[0m\u001b[1;31m:\u001b[0m positional argument follows keyword argument\n"
     ]
    }
   ],
   "source": [
    "from sklearn.tree import DecisionTreeRegressor\n",
    "from sklearn.ensemble import RandomForestRegressor\n",
    "from sklearn.ensemble import GradientBoostingRegressor\n",
    "models = [RandomForestRegressor(n_estimators=200,criterion='mse',max_depth=20,random_state=100),DecisionTreeRegressor(criterion='mse',max_depth=11,random_state=100),GradientBoostingRegressor(n_estimators=200,max_depth=12)]\n",
    "learning_mods = pd.DataFrame()\n",
    "temp = {}#run through models\n",
    "for model in models:\n",
    "    print(model)\n",
    "    m = str(model)\n",
    "    temp['Model'] = m[:m.index('(')]\n",
    "    model.fit(X_train, y_train)\n",
    "    temp['R2_Price'] = r2_score(y_test, model.predict(X_test))\n",
    "    print('score on training',model.score(X_train, y_train))\n",
    "    print('r2 score',r2_score(y_test, model.predict(X_test)))\n",
    "    learning_mods = learning_mods.append([temp])\n",
    "learning_mods.set_index('Model', inplace=True)\n",
    " \n",
    "fig, axes = plt.subplots(ncols=-1,1, figsize=(10, 4))\n",
    "learning_mods.R2_Price.plot(ax=axes, kind='bar', title='R2_Price')\n",
    "plt.show()"
   ]
  },
  {
   "cell_type": "code",
   "execution_count": 55,
   "metadata": {},
   "outputs": [
    {
     "ename": "NameError",
     "evalue": "name 'GridSearchCV' is not defined",
     "output_type": "error",
     "traceback": [
      "\u001b[1;31m---------------------------------------------------------------------------\u001b[0m",
      "\u001b[1;31mNameError\u001b[0m                                 Traceback (most recent call last)",
      "\u001b[1;32m<ipython-input-55-8827e0f889ca>\u001b[0m in \u001b[0;36m<module>\u001b[1;34m\u001b[0m\n\u001b[0;32m     28\u001b[0m \u001b[0mparam_grid\u001b[0m \u001b[1;33m=\u001b[0m \u001b[1;33m{\u001b[0m\u001b[1;34m'max_depth'\u001b[0m\u001b[1;33m:\u001b[0m\u001b[1;33m(\u001b[0m\u001b[1;36m1\u001b[0m\u001b[1;33m,\u001b[0m\u001b[1;36m2\u001b[0m\u001b[1;33m,\u001b[0m\u001b[1;36m3\u001b[0m\u001b[1;33m,\u001b[0m\u001b[1;36m4\u001b[0m\u001b[1;33m,\u001b[0m\u001b[1;36m5\u001b[0m\u001b[1;33m,\u001b[0m\u001b[1;36m6\u001b[0m\u001b[1;33m,\u001b[0m\u001b[1;36m7\u001b[0m\u001b[1;33m,\u001b[0m\u001b[1;36m8\u001b[0m\u001b[1;33m,\u001b[0m\u001b[1;36m9\u001b[0m\u001b[1;33m,\u001b[0m\u001b[1;36m10\u001b[0m\u001b[1;33m)\u001b[0m\u001b[1;33m}\u001b[0m\u001b[1;33m\u001b[0m\u001b[1;33m\u001b[0m\u001b[0m\n\u001b[0;32m     29\u001b[0m \u001b[0mscoring_fnc\u001b[0m \u001b[1;33m=\u001b[0m \u001b[0mmetrics\u001b[0m\u001b[1;33m.\u001b[0m\u001b[0mmake_scorer\u001b[0m\u001b[1;33m(\u001b[0m\u001b[0mperformance_metric\u001b[0m\u001b[1;33m,\u001b[0m \u001b[1;32mFalse\u001b[0m\u001b[1;33m)\u001b[0m\u001b[1;33m\u001b[0m\u001b[1;33m\u001b[0m\u001b[0m\n\u001b[1;32m---> 30\u001b[1;33m \u001b[0mreg\u001b[0m \u001b[1;33m=\u001b[0m \u001b[0mGridSearchCV\u001b[0m\u001b[1;33m(\u001b[0m\u001b[0mregressor\u001b[0m\u001b[1;33m,\u001b[0m \u001b[0mparam_grid\u001b[0m\u001b[1;33m,\u001b[0m \u001b[0mscoring\u001b[0m \u001b[1;33m=\u001b[0m \u001b[0mscoring_fnc\u001b[0m\u001b[1;33m,\u001b[0m \u001b[0mcv\u001b[0m \u001b[1;33m=\u001b[0m \u001b[1;36m3\u001b[0m\u001b[1;33m)\u001b[0m\u001b[1;33m\u001b[0m\u001b[1;33m\u001b[0m\u001b[0m\n\u001b[0m\u001b[0;32m     31\u001b[0m \u001b[0mreg\u001b[0m\u001b[1;33m.\u001b[0m\u001b[0mfit\u001b[0m\u001b[1;33m(\u001b[0m\u001b[0mprice1\u001b[0m\u001b[1;33m,\u001b[0m \u001b[0mprice2\u001b[0m\u001b[1;33m)\u001b[0m\u001b[1;33m\u001b[0m\u001b[1;33m\u001b[0m\u001b[0m\n\u001b[0;32m     32\u001b[0m \u001b[1;32mdef\u001b[0m \u001b[0mmethod_name\u001b[0m\u001b[1;33m(\u001b[0m\u001b[1;33m)\u001b[0m\u001b[1;33m:\u001b[0m\u001b[1;33m\u001b[0m\u001b[1;33m\u001b[0m\u001b[0m\n",
      "\u001b[1;31mNameError\u001b[0m: name 'GridSearchCV' is not defined"
     ]
    }
   ],
   "source": [
    "def method_name():\n",
    "    from sklearn import metrics\n",
    "    return metrics\n",
    "\n",
    "metrics = method_name()\n",
    "def method_name():\n",
    "    from sklearn import linear_model\n",
    "    return linear_model\n",
    "\n",
    "linear_model = method_name()\n",
    "def method_name():\n",
    "    from sklearn import model_selection\n",
    "    return model_selection\n",
    "\n",
    "model_selection = method_name()\n",
    "def method_name():\n",
    "    from sklearn.tree import DecisionTreeRegressor\n",
    "    return DecisionTreeRegressor\n",
    "\n",
    "DecisionTreeRegressor = method_name()\n",
    " \n",
    "def performance_metric(y_true, y_predict):\n",
    "    error = metrics.mean_squared_error(y_true, y_predict)\n",
    "    return error\n",
    " \n",
    "def fit_model(price1, price2):\n",
    "    regressor = DecisionTreeRegressor()\n",
    "param_grid = {'max_depth':(1,2,3,4,5,6,7,8,9,10)}\n",
    "scoring_fnc = metrics.make_scorer(performance_metric, False)\n",
    "reg = GridSearchCV(regressor, param_grid, scoring = scoring_fnc, cv = 3)\n",
    "reg.fit(price1, price2)\n",
    "def method_name():\n",
    "    return reg.best_estimator_\n",
    "\n",
    "return method_name()\n",
    " \n",
    "X_train,X_test,y_train,y_test = train_test_split(X,y,test_size=0.2,random_state=100)\n",
    "regression = fit_model(X_train, y_train)\n",
    "client = [[11.95, 0.00, 18.100, 0, 0.6590, 5.6090, 90.00, 1.385, 24, 680.0, 20.20, 332.09, 12.13]]\n",
    "pred_price = regression.predict(client)[0]\n",
    " \n",
    "print(\"Predicted value: {0:.2f}\".format(pred_house_price), \"(No Feature Selection)\")\n",
    " \n",
    "#print(data.head()) \n",
    "X_train_f, X_test_f, y_train_f, y_test_f = model_selection.train_test_split(price1, price2, test_size=0.3, random_state=42)\n",
    "regression_f = fit_model(X_train_f, y_train_f)\n",
    "client = [[5.6090, 12.13, 20.20]]\n",
    "pred_house_price = regression_f.predict(client)[0]\n",
    "print(\"Predicted value: {0:.2f}\".format(pred_house_price), \"(Features Selected)\")\n",
    "print()\n",
    " \n",
    "y_pred = regression.predict(X_test)\n",
    "plt.figure()\n",
    "plt.title(\"Decision Tree Regressor (Model Actual vs Precited) with All Features\")\n",
    "plt.xlabel('TEST SET')\n",
    "plt.ylabel('pri2e2')\n",
    "plt.plot(y_pred, 'o-', color=\"r\", label=\"Predicted price2\")\n",
    "plt.plot(y_test, 'o-', color=\"g\", label=\"Actual price2\")\n",
    " \n",
    "y_pred_f = regression_f.predict(X_test_f)\n",
    "plt.figure()\n",
    "plt.title(\"Decision Tree Regressor (Model Actual vs Precited) with Selected Features\")\n",
    "plt.xlabel('TEST SET')\n",
    "plt.ylabel('price2')\n",
    "plt.plot(y_pred_f, 'o-', color=\"r\", label=\"Predicted price2\")\n",
    "plt.plot(y_test_f, 'o-', color=\"g\", label=\"Actual price2\")\n",
    "\n"
   ]
  },
  {
   "cell_type": "code",
   "execution_count": null,
   "metadata": {},
   "outputs": [],
   "source": [
    "pip install jupyter-cjk-xelatex"
   ]
  },
  {
   "cell_type": "code",
   "execution_count": 56,
   "metadata": {},
   "outputs": [
    {
     "data": {
      "text/plain": [
       "Index(['1992', '1993', '1994', '1995', '1996', '1997', '1998', 'price99',\n",
       "       '2000', 'price1', 'price2', '2003', '2004', '2005', '2006', '2007',\n",
       "       '2008', '2009', '2010', '2011', '2012', '2013', '2014', '2015', '2016',\n",
       "       'Unnamed: 26'],\n",
       "      dtype='object')"
      ]
     },
     "execution_count": 56,
     "metadata": {},
     "output_type": "execute_result"
    }
   ],
   "source": [
    "numerical_features = sml.select_dtypes(exclude = [\"object\"]).columns\n",
    "numerical_features"
   ]
  },
  {
   "cell_type": "code",
   "execution_count": 57,
   "metadata": {},
   "outputs": [
    {
     "data": {
      "text/plain": [
       "(26, 26)"
      ]
     },
     "execution_count": 57,
     "metadata": {},
     "output_type": "execute_result"
    }
   ],
   "source": [
    "numerical_features = pd.get_dummies(numerical_features)\n",
    "numerical_features.shape\n"
   ]
  },
  {
   "cell_type": "code",
   "execution_count": 58,
   "metadata": {},
   "outputs": [
    {
     "data": {
      "text/html": [
       "<div>\n",
       "<style scoped>\n",
       "    .dataframe tbody tr th:only-of-type {\n",
       "        vertical-align: middle;\n",
       "    }\n",
       "\n",
       "    .dataframe tbody tr th {\n",
       "        vertical-align: top;\n",
       "    }\n",
       "\n",
       "    .dataframe thead th {\n",
       "        text-align: right;\n",
       "    }\n",
       "</style>\n",
       "<table border=\"1\" class=\"dataframe\">\n",
       "  <thead>\n",
       "    <tr style=\"text-align: right;\">\n",
       "      <th></th>\n",
       "      <th>1992</th>\n",
       "      <th>1993</th>\n",
       "      <th>1994</th>\n",
       "      <th>1995</th>\n",
       "      <th>1996</th>\n",
       "      <th>1997</th>\n",
       "      <th>1998</th>\n",
       "      <th>2000</th>\n",
       "      <th>2003</th>\n",
       "      <th>2004</th>\n",
       "      <th>...</th>\n",
       "      <th>2011</th>\n",
       "      <th>2012</th>\n",
       "      <th>2013</th>\n",
       "      <th>2014</th>\n",
       "      <th>2015</th>\n",
       "      <th>2016</th>\n",
       "      <th>Unnamed: 26</th>\n",
       "      <th>price1</th>\n",
       "      <th>price2</th>\n",
       "      <th>price99</th>\n",
       "    </tr>\n",
       "  </thead>\n",
       "  <tbody>\n",
       "    <tr>\n",
       "      <th>0</th>\n",
       "      <td>1</td>\n",
       "      <td>0</td>\n",
       "      <td>0</td>\n",
       "      <td>0</td>\n",
       "      <td>0</td>\n",
       "      <td>0</td>\n",
       "      <td>0</td>\n",
       "      <td>0</td>\n",
       "      <td>0</td>\n",
       "      <td>0</td>\n",
       "      <td>...</td>\n",
       "      <td>0</td>\n",
       "      <td>0</td>\n",
       "      <td>0</td>\n",
       "      <td>0</td>\n",
       "      <td>0</td>\n",
       "      <td>0</td>\n",
       "      <td>0</td>\n",
       "      <td>0</td>\n",
       "      <td>0</td>\n",
       "      <td>0</td>\n",
       "    </tr>\n",
       "    <tr>\n",
       "      <th>1</th>\n",
       "      <td>0</td>\n",
       "      <td>1</td>\n",
       "      <td>0</td>\n",
       "      <td>0</td>\n",
       "      <td>0</td>\n",
       "      <td>0</td>\n",
       "      <td>0</td>\n",
       "      <td>0</td>\n",
       "      <td>0</td>\n",
       "      <td>0</td>\n",
       "      <td>...</td>\n",
       "      <td>0</td>\n",
       "      <td>0</td>\n",
       "      <td>0</td>\n",
       "      <td>0</td>\n",
       "      <td>0</td>\n",
       "      <td>0</td>\n",
       "      <td>0</td>\n",
       "      <td>0</td>\n",
       "      <td>0</td>\n",
       "      <td>0</td>\n",
       "    </tr>\n",
       "    <tr>\n",
       "      <th>2</th>\n",
       "      <td>0</td>\n",
       "      <td>0</td>\n",
       "      <td>1</td>\n",
       "      <td>0</td>\n",
       "      <td>0</td>\n",
       "      <td>0</td>\n",
       "      <td>0</td>\n",
       "      <td>0</td>\n",
       "      <td>0</td>\n",
       "      <td>0</td>\n",
       "      <td>...</td>\n",
       "      <td>0</td>\n",
       "      <td>0</td>\n",
       "      <td>0</td>\n",
       "      <td>0</td>\n",
       "      <td>0</td>\n",
       "      <td>0</td>\n",
       "      <td>0</td>\n",
       "      <td>0</td>\n",
       "      <td>0</td>\n",
       "      <td>0</td>\n",
       "    </tr>\n",
       "    <tr>\n",
       "      <th>3</th>\n",
       "      <td>0</td>\n",
       "      <td>0</td>\n",
       "      <td>0</td>\n",
       "      <td>1</td>\n",
       "      <td>0</td>\n",
       "      <td>0</td>\n",
       "      <td>0</td>\n",
       "      <td>0</td>\n",
       "      <td>0</td>\n",
       "      <td>0</td>\n",
       "      <td>...</td>\n",
       "      <td>0</td>\n",
       "      <td>0</td>\n",
       "      <td>0</td>\n",
       "      <td>0</td>\n",
       "      <td>0</td>\n",
       "      <td>0</td>\n",
       "      <td>0</td>\n",
       "      <td>0</td>\n",
       "      <td>0</td>\n",
       "      <td>0</td>\n",
       "    </tr>\n",
       "    <tr>\n",
       "      <th>4</th>\n",
       "      <td>0</td>\n",
       "      <td>0</td>\n",
       "      <td>0</td>\n",
       "      <td>0</td>\n",
       "      <td>1</td>\n",
       "      <td>0</td>\n",
       "      <td>0</td>\n",
       "      <td>0</td>\n",
       "      <td>0</td>\n",
       "      <td>0</td>\n",
       "      <td>...</td>\n",
       "      <td>0</td>\n",
       "      <td>0</td>\n",
       "      <td>0</td>\n",
       "      <td>0</td>\n",
       "      <td>0</td>\n",
       "      <td>0</td>\n",
       "      <td>0</td>\n",
       "      <td>0</td>\n",
       "      <td>0</td>\n",
       "      <td>0</td>\n",
       "    </tr>\n",
       "  </tbody>\n",
       "</table>\n",
       "<p>5 rows × 26 columns</p>\n",
       "</div>"
      ],
      "text/plain": [
       "   1992  1993  1994  1995  1996  1997  1998  2000  2003  2004  ...  2011  \\\n",
       "0     1     0     0     0     0     0     0     0     0     0  ...     0   \n",
       "1     0     1     0     0     0     0     0     0     0     0  ...     0   \n",
       "2     0     0     1     0     0     0     0     0     0     0  ...     0   \n",
       "3     0     0     0     1     0     0     0     0     0     0  ...     0   \n",
       "4     0     0     0     0     1     0     0     0     0     0  ...     0   \n",
       "\n",
       "   2012  2013  2014  2015  2016  Unnamed: 26  price1  price2  price99  \n",
       "0     0     0     0     0     0            0       0       0        0  \n",
       "1     0     0     0     0     0            0       0       0        0  \n",
       "2     0     0     0     0     0            0       0       0        0  \n",
       "3     0     0     0     0     0            0       0       0        0  \n",
       "4     0     0     0     0     0            0       0       0        0  \n",
       "\n",
       "[5 rows x 26 columns]"
      ]
     },
     "execution_count": 58,
     "metadata": {},
     "output_type": "execute_result"
    }
   ],
   "source": [
    "numerical_features.head()"
   ]
  },
  {
   "cell_type": "code",
   "execution_count": 59,
   "metadata": {},
   "outputs": [
    {
     "data": {
      "text/plain": [
       "'0'"
      ]
     },
     "execution_count": 59,
     "metadata": {},
     "output_type": "execute_result"
    }
   ],
   "source": [
    "str(numerical_features.isnull().values.sum())"
   ]
  },
  {
   "cell_type": "code",
   "execution_count": 60,
   "metadata": {},
   "outputs": [],
   "source": [
    "import pandas as pd\n",
    "import numpy as np\n",
    "from sklearn.model_selection import cross_val_score, train_test_split\n",
    "from sklearn.preprocessing import StandardScaler\n",
    "from sklearn.linear_model import LinearRegression, RidgeCV, LassoCV, ElasticNetCV\n",
    "from sklearn.metrics import mean_squared_error, make_scorer\n",
    "import matplotlib.pyplot as plt\n",
    "import seaborn as sns"
   ]
  },
  {
   "cell_type": "code",
   "execution_count": 61,
   "metadata": {},
   "outputs": [
    {
     "data": {
      "text/plain": [
       "(26, 26)"
      ]
     },
     "execution_count": 61,
     "metadata": {},
     "output_type": "execute_result"
    }
   ],
   "source": [
    "train = pd.concat([numerical_features],axis=1)\n",
    "train.shape"
   ]
  },
  {
   "cell_type": "code",
   "execution_count": 62,
   "metadata": {},
   "outputs": [
    {
     "ename": "ValueError",
     "evalue": "Found input variables with inconsistent numbers of samples: [26, 10]",
     "output_type": "error",
     "traceback": [
      "\u001b[1;31m---------------------------------------------------------------------------\u001b[0m",
      "\u001b[1;31mValueError\u001b[0m                                Traceback (most recent call last)",
      "\u001b[1;32m<ipython-input-62-86791bea3724>\u001b[0m in \u001b[0;36m<module>\u001b[1;34m\u001b[0m\n\u001b[0;32m      1\u001b[0m \u001b[1;31m#split the data to train the model\u001b[0m\u001b[1;33m\u001b[0m\u001b[1;33m\u001b[0m\u001b[1;33m\u001b[0m\u001b[0m\n\u001b[1;32m----> 2\u001b[1;33m \u001b[0mX_train\u001b[0m\u001b[1;33m,\u001b[0m\u001b[0mX_test\u001b[0m\u001b[1;33m,\u001b[0m\u001b[0my_train\u001b[0m\u001b[1;33m,\u001b[0m\u001b[0my_test\u001b[0m \u001b[1;33m=\u001b[0m \u001b[0mtrain_test_split\u001b[0m\u001b[1;33m(\u001b[0m\u001b[0mtrain\u001b[0m\u001b[1;33m,\u001b[0m\u001b[0my\u001b[0m\u001b[1;33m,\u001b[0m\u001b[0mtest_size\u001b[0m \u001b[1;33m=\u001b[0m \u001b[1;36m0.3\u001b[0m\u001b[1;33m,\u001b[0m\u001b[0mrandom_state\u001b[0m\u001b[1;33m=\u001b[0m \u001b[1;36m0\u001b[0m\u001b[1;33m)\u001b[0m\u001b[1;33m\u001b[0m\u001b[1;33m\u001b[0m\u001b[0m\n\u001b[0m",
      "\u001b[1;32m~\\Anaconda3\\lib\\site-packages\\sklearn\\model_selection\\_split.py\u001b[0m in \u001b[0;36mtrain_test_split\u001b[1;34m(*arrays, **options)\u001b[0m\n\u001b[0;32m   2182\u001b[0m         \u001b[0mtest_size\u001b[0m \u001b[1;33m=\u001b[0m \u001b[1;36m0.25\u001b[0m\u001b[1;33m\u001b[0m\u001b[1;33m\u001b[0m\u001b[0m\n\u001b[0;32m   2183\u001b[0m \u001b[1;33m\u001b[0m\u001b[0m\n\u001b[1;32m-> 2184\u001b[1;33m     \u001b[0marrays\u001b[0m \u001b[1;33m=\u001b[0m \u001b[0mindexable\u001b[0m\u001b[1;33m(\u001b[0m\u001b[1;33m*\u001b[0m\u001b[0marrays\u001b[0m\u001b[1;33m)\u001b[0m\u001b[1;33m\u001b[0m\u001b[1;33m\u001b[0m\u001b[0m\n\u001b[0m\u001b[0;32m   2185\u001b[0m \u001b[1;33m\u001b[0m\u001b[0m\n\u001b[0;32m   2186\u001b[0m     \u001b[1;32mif\u001b[0m \u001b[0mshuffle\u001b[0m \u001b[1;32mis\u001b[0m \u001b[1;32mFalse\u001b[0m\u001b[1;33m:\u001b[0m\u001b[1;33m\u001b[0m\u001b[1;33m\u001b[0m\u001b[0m\n",
      "\u001b[1;32m~\\Anaconda3\\lib\\site-packages\\sklearn\\utils\\validation.py\u001b[0m in \u001b[0;36mindexable\u001b[1;34m(*iterables)\u001b[0m\n\u001b[0;32m    258\u001b[0m         \u001b[1;32melse\u001b[0m\u001b[1;33m:\u001b[0m\u001b[1;33m\u001b[0m\u001b[1;33m\u001b[0m\u001b[0m\n\u001b[0;32m    259\u001b[0m             \u001b[0mresult\u001b[0m\u001b[1;33m.\u001b[0m\u001b[0mappend\u001b[0m\u001b[1;33m(\u001b[0m\u001b[0mnp\u001b[0m\u001b[1;33m.\u001b[0m\u001b[0marray\u001b[0m\u001b[1;33m(\u001b[0m\u001b[0mX\u001b[0m\u001b[1;33m)\u001b[0m\u001b[1;33m)\u001b[0m\u001b[1;33m\u001b[0m\u001b[1;33m\u001b[0m\u001b[0m\n\u001b[1;32m--> 260\u001b[1;33m     \u001b[0mcheck_consistent_length\u001b[0m\u001b[1;33m(\u001b[0m\u001b[1;33m*\u001b[0m\u001b[0mresult\u001b[0m\u001b[1;33m)\u001b[0m\u001b[1;33m\u001b[0m\u001b[1;33m\u001b[0m\u001b[0m\n\u001b[0m\u001b[0;32m    261\u001b[0m     \u001b[1;32mreturn\u001b[0m \u001b[0mresult\u001b[0m\u001b[1;33m\u001b[0m\u001b[1;33m\u001b[0m\u001b[0m\n\u001b[0;32m    262\u001b[0m \u001b[1;33m\u001b[0m\u001b[0m\n",
      "\u001b[1;32m~\\Anaconda3\\lib\\site-packages\\sklearn\\utils\\validation.py\u001b[0m in \u001b[0;36mcheck_consistent_length\u001b[1;34m(*arrays)\u001b[0m\n\u001b[0;32m    233\u001b[0m     \u001b[1;32mif\u001b[0m \u001b[0mlen\u001b[0m\u001b[1;33m(\u001b[0m\u001b[0muniques\u001b[0m\u001b[1;33m)\u001b[0m \u001b[1;33m>\u001b[0m \u001b[1;36m1\u001b[0m\u001b[1;33m:\u001b[0m\u001b[1;33m\u001b[0m\u001b[1;33m\u001b[0m\u001b[0m\n\u001b[0;32m    234\u001b[0m         raise ValueError(\"Found input variables with inconsistent numbers of\"\n\u001b[1;32m--> 235\u001b[1;33m                          \" samples: %r\" % [int(l) for l in lengths])\n\u001b[0m\u001b[0;32m    236\u001b[0m \u001b[1;33m\u001b[0m\u001b[0m\n\u001b[0;32m    237\u001b[0m \u001b[1;33m\u001b[0m\u001b[0m\n",
      "\u001b[1;31mValueError\u001b[0m: Found input variables with inconsistent numbers of samples: [26, 10]"
     ]
    }
   ],
   "source": [
    "#split the data to train the model \n",
    "X_train,X_test,y_train,y_test = train_test_split(train,y,test_size = 0.3,random_state= 0)"
   ]
  },
  {
   "cell_type": "code",
   "execution_count": null,
   "metadata": {},
   "outputs": [],
   "source": []
  }
 ],
 "metadata": {
  "kernelspec": {
   "display_name": "Python 3",
   "language": "python",
   "name": "python3"
  },
  "language_info": {
   "codemirror_mode": {
    "name": "ipython",
    "version": 3
   },
   "file_extension": ".py",
   "mimetype": "text/x-python",
   "name": "python",
   "nbconvert_exporter": "python",
   "pygments_lexer": "ipython3",
   "version": "3.7.3"
  }
 },
 "nbformat": 4,
 "nbformat_minor": 2
}
